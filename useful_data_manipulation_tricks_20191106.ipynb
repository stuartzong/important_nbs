{
 "cells": [
  {
   "cell_type": "markdown",
   "metadata": {},
   "source": [
    "install notebook extensions: pip install jupyter_contrib_nbextensions && jupyter contrib nbextension install --user"
   ]
  },
  {
   "cell_type": "markdown",
   "metadata": {},
   "source": [
    "list of laTex mathematical symbols\n",
    "https://oeis.org/wiki/List_of_LaTeX_mathematical_symbols"
   ]
  },
  {
   "cell_type": "code",
   "execution_count": 3,
   "metadata": {},
   "outputs": [
    {
     "data": {
      "text/html": [
       "        <script type=\"text/javascript\">\n",
       "        window.PlotlyConfig = {MathJaxConfig: 'local'};\n",
       "        if (window.MathJax) {MathJax.Hub.Config({SVG: {font: \"STIX-Web\"}});}\n",
       "        if (typeof require !== 'undefined') {\n",
       "        require.undef(\"plotly\");\n",
       "        requirejs.config({\n",
       "            paths: {\n",
       "                'plotly': ['https://cdn.plot.ly/plotly-latest.min']\n",
       "            }\n",
       "        });\n",
       "        require(['plotly'], function(Plotly) {\n",
       "            window._Plotly = Plotly;\n",
       "        });\n",
       "        }\n",
       "        </script>\n",
       "        "
      ]
     },
     "metadata": {},
     "output_type": "display_data"
    },
    {
     "data": {
      "text/html": [
       "        <script type=\"text/javascript\">\n",
       "        window.PlotlyConfig = {MathJaxConfig: 'local'};\n",
       "        if (window.MathJax) {MathJax.Hub.Config({SVG: {font: \"STIX-Web\"}});}\n",
       "        if (typeof require !== 'undefined') {\n",
       "        require.undef(\"plotly\");\n",
       "        requirejs.config({\n",
       "            paths: {\n",
       "                'plotly': ['https://cdn.plot.ly/plotly-latest.min']\n",
       "            }\n",
       "        });\n",
       "        require(['plotly'], function(Plotly) {\n",
       "            window._Plotly = Plotly;\n",
       "        });\n",
       "        }\n",
       "        </script>\n",
       "        "
      ]
     },
     "metadata": {},
     "output_type": "display_data"
    },
    {
     "data": {
      "text/html": [
       "        <script type=\"text/javascript\">\n",
       "        window.PlotlyConfig = {MathJaxConfig: 'local'};\n",
       "        if (window.MathJax) {MathJax.Hub.Config({SVG: {font: \"STIX-Web\"}});}\n",
       "        if (typeof require !== 'undefined') {\n",
       "        require.undef(\"plotly\");\n",
       "        requirejs.config({\n",
       "            paths: {\n",
       "                'plotly': ['https://cdn.plot.ly/plotly-latest.min']\n",
       "            }\n",
       "        });\n",
       "        require(['plotly'], function(Plotly) {\n",
       "            window._Plotly = Plotly;\n",
       "        });\n",
       "        }\n",
       "        </script>\n",
       "        "
      ]
     },
     "metadata": {},
     "output_type": "display_data"
    }
   ],
   "source": [
    "import pandas as pd\n",
    "import numpy as np\n",
    "import matplotlib.pyplot as plt\n",
    "from scipy.stats import binom\n",
    "import  statsmodels.stats.multitest as multitest\n",
    "import itertools\n",
    "\n",
    "import seaborn as sns\n",
    "# plotly.offline.init_notebook_mode(connected=True)\n",
    "# Standard plotly imports\n",
    "import plotly.plotly as py\n",
    "import pandas as pd\n",
    "import plotly\n",
    "import plotly.graph_objs as go\n",
    "from plotly.offline import iplot\n",
    "\n",
    "from tqdm import tnrange, tqdm_notebook\n",
    "plotly.io.orca.config.port = 8999\n",
    "\n",
    "from plotly import tools\n",
    "# cufflinks binds plotly directly to python dataframe\n",
    "import cufflinks as cf\n",
    "cf.go_offline()\n",
    "# # Set the global theme\n",
    "cf.set_config_file(world_readable=True, theme='pearl', offline=True)\n",
    "# plotly.offline.init_notebook_mode(connected=True)\n",
    "\n",
    "\n",
    "%matplotlib inline\n",
    "%reload_ext autoreload\n",
    "%autoreload 2\n",
    "\n",
    "from IPython.core.interactiveshell import InteractiveShell\n",
    "InteractiveShell.ast_node_interactivity = \"all\""
   ]
  },
  {
   "cell_type": "markdown",
   "metadata": {},
   "source": [
    "# read text in files as a list of texts "
   ]
  },
  {
   "cell_type": "code",
   "execution_count": 40,
   "metadata": {},
   "outputs": [
    {
     "data": {
      "text/plain": [
       "['The special effects of this movie are, especially for its time, laughable and used in such an over-emphasized way that you can\\'t deny their terrible existance.<br /><br />The acting redefines the term \"terrible overacting\" at the hands of Meg Foster and Richard Joseph Paul, where julie Newman and Andrew Divoff just redefine \"bad\".<br /><br />***spoilers***<br /><br />The charm in this movie can be found in two things: First is the excellent casting of Carel \"Lurch\" Struycken as the mysterious psychic Gaunt, who can sense where and when people will die and is always there.<br /><br />The second are original finds, the combination SF-Western is obviously original, if terrible, but other finds are more original, like the gunman Zack Stone being able to sense the pain of the people he shoots (though his acting falls short here).<br /><br />Overal...don\\'t see this movie, except if you love that ol\\' hunk-o-brutal Carel Struycken, as any self-respecting Dutchman should.',\n",
       " \"You get 5 writers together, have each write a different story with a different genre, and then you try to make one movie out of it. It's action, it's adventure, it's sci-fi, it's western, it's a mess. Sorry, but this movie absolutely stinks. 4.5 is giving it an awefully high rating. That said, it's movies like this that make me think I could write movies, and I can barely write.\"]"
      ]
     },
     "execution_count": 40,
     "metadata": {},
     "output_type": "execute_result"
    }
   ],
   "source": [
    "path = '/projects/trans_scratch/validations/workspace/szong/development/fastai/courses/ml1/data/aclImdb/train/neg/'\n",
    "fs = ['12265_1.txt', '12264_1.txt']\n",
    "txts = []\n",
    "for f in fs:\n",
    "    fname = f'{path}{f}'\n",
    "    with open(fname) as fh:\n",
    "        txts.append(fh.read())\n",
    "\n",
    "txts"
   ]
  },
  {
   "cell_type": "markdown",
   "metadata": {},
   "source": [
    "# useful numpy functions: sign, clip, nonzero, argmax, argsort "
   ]
  },
  {
   "cell_type": "code",
   "execution_count": 60,
   "metadata": {},
   "outputs": [
    {
     "data": {
      "text/plain": [
       "array([-1.,  1.,  1., -1.,  0.,  0.])"
      ]
     },
     "execution_count": 60,
     "metadata": {},
     "output_type": "execute_result"
    },
    {
     "data": {
      "text/plain": [
       "array([-2. ,  3. ,  0.1, -0.2,  0. ,  0. ])"
      ]
     },
     "execution_count": 60,
     "metadata": {},
     "output_type": "execute_result"
    },
    {
     "data": {
      "text/plain": [
       "(array([0, 1, 2, 3]),)"
      ]
     },
     "execution_count": 60,
     "metadata": {},
     "output_type": "execute_result"
    },
    {
     "data": {
      "text/plain": [
       "array([-5.3,  5.4,  0.1, -0.2])"
      ]
     },
     "execution_count": 60,
     "metadata": {},
     "output_type": "execute_result"
    },
    {
     "data": {
      "text/plain": [
       "1"
      ]
     },
     "execution_count": 60,
     "metadata": {},
     "output_type": "execute_result"
    },
    {
     "data": {
      "text/plain": [
       "5.4"
      ]
     },
     "execution_count": 60,
     "metadata": {},
     "output_type": "execute_result"
    },
    {
     "data": {
      "text/plain": [
       "array([0, 3, 4, 5, 2, 1])"
      ]
     },
     "execution_count": 60,
     "metadata": {},
     "output_type": "execute_result"
    },
    {
     "data": {
      "text/plain": [
       "array([-5.3, -0.2,  0. ,  0. ,  0.1,  5.4])"
      ]
     },
     "execution_count": 60,
     "metadata": {},
     "output_type": "execute_result"
    },
    {
     "data": {
      "text/plain": [
       "array([-5.3, -0.2,  0. ,  0. ,  0.1,  5.4])"
      ]
     },
     "execution_count": 60,
     "metadata": {},
     "output_type": "execute_result"
    },
    {
     "data": {
      "text/plain": [
       "array([100., 100., 100., 100., 100., 100.])"
      ]
     },
     "execution_count": 60,
     "metadata": {},
     "output_type": "execute_result"
    }
   ],
   "source": [
    "a = np.array([-5.3, 5.4, 0.1, -0.2, 0, 0])\n",
    "np.sign(a)\n",
    "\n",
    "\n",
    "np.clip(a, -2, 3)\n",
    "\n",
    "np.nonzero(a)\n",
    "a[np.nonzero(a)]\n",
    "\n",
    "np.argmax(a)\n",
    "a[np.argmax(a)]\n",
    "\n",
    "np.argsort(a)\n",
    "a[np.argsort(a)]\n",
    "\n",
    "# ndarray inplace operation\n",
    "a.sort()\n",
    "a\n",
    "a.fill(100)\n",
    "a\n",
    "\n",
    "# generate synthetic dataset"
   ]
  },
  {
   "cell_type": "markdown",
   "metadata": {},
   "source": [
    "# generate synthetic dataset"
   ]
  },
  {
   "cell_type": "code",
   "execution_count": 1,
   "metadata": {},
   "outputs": [],
   "source": [
    "import numpy as np"
   ]
  },
  {
   "cell_type": "code",
   "execution_count": null,
   "metadata": {},
   "outputs": [],
   "source": [
    "np.linspace()"
   ]
  },
  {
   "cell_type": "code",
   "execution_count": 59,
   "metadata": {},
   "outputs": [
    {
     "data": {
      "text/plain": [
       "array([0.        , 0.02040816, 0.04081633, 0.06122449, 0.08163265,\n",
       "       0.10204082, 0.12244898, 0.14285714, 0.16326531, 0.18367347,\n",
       "       0.20408163, 0.2244898 , 0.24489796, 0.26530612, 0.28571429,\n",
       "       0.30612245, 0.32653061, 0.34693878, 0.36734694, 0.3877551 ,\n",
       "       0.40816327, 0.42857143, 0.44897959, 0.46938776, 0.48979592,\n",
       "       0.51020408, 0.53061224, 0.55102041, 0.57142857, 0.59183673,\n",
       "       0.6122449 , 0.63265306, 0.65306122, 0.67346939, 0.69387755,\n",
       "       0.71428571, 0.73469388, 0.75510204, 0.7755102 , 0.79591837,\n",
       "       0.81632653, 0.83673469, 0.85714286, 0.87755102, 0.89795918,\n",
       "       0.91836735, 0.93877551, 0.95918367, 0.97959184, 1.        ])"
      ]
     },
     "execution_count": 59,
     "metadata": {},
     "output_type": "execute_result"
    },
    {
     "data": {
      "text/plain": [
       "array([-0.03135407, -0.11814905,  0.14586559, -0.04239754,  0.16058562,\n",
       "       -0.05277152,  0.10170596, -0.00888891,  0.19051268,  0.0203645 ,\n",
       "        0.3097905 ,  0.04893543,  0.33457591,  0.10317423,  0.35499112,\n",
       "        0.48008651,  0.37169467,  0.30716088,  0.31143893,  0.35979426,\n",
       "        0.60311788,  0.5898593 ,  0.5409102 ,  0.54906796,  0.53380142,\n",
       "        0.55232376,  0.55209233,  0.66242741,  0.58648964,  0.6274728 ,\n",
       "        0.76066367,  0.54772801,  0.53610087,  0.85922766,  0.7635116 ,\n",
       "        0.73061079,  0.85773251,  0.72330783,  0.58765447,  0.98966587,\n",
       "        0.64534461,  0.89153296,  0.69251614,  0.68548496,  0.84034004,\n",
       "        1.00092404,  0.9832276 ,  1.07908551,  0.92975307,  0.93793445])"
      ]
     },
     "execution_count": 59,
     "metadata": {},
     "output_type": "execute_result"
    },
    {
     "data": {
      "text/plain": [
       "<matplotlib.collections.PathCollection at 0x7f34d2da4160>"
      ]
     },
     "execution_count": 59,
     "metadata": {},
     "output_type": "execute_result"
    },
    {
     "data": {
      "text/plain": [
       "<matplotlib.collections.PathCollection at 0x7f34d2d74320>"
      ]
     },
     "execution_count": 59,
     "metadata": {},
     "output_type": "execute_result"
    },
    {
     "data": {
      "image/png": "[encoded data removed]",
      "text/plain": [
       "<Figure size 432x288 with 2 Axes>"
      ]
     },
     "metadata": {
      "needs_background": "light"
     },
     "output_type": "display_data"
    }
   ],
   "source": [
    "x = np.linspace(0,1);x # default num=50\n",
    "y = x + np.random.uniform(-0.2, 0.2, x.shape);y\n",
    "# y = x + np.random.normal(-0.2, 0.2, x.shape);y\n",
    "f, ax = plt.subplots(1,2)\n",
    "ax[0].scatter(x, y)\n",
    "ax[1].scatter(x, y+0.3)"
   ]
  },
  {
   "cell_type": "markdown",
   "metadata": {},
   "source": [
    "# get indices of an array"
   ]
  },
  {
   "cell_type": "code",
   "execution_count": 17,
   "metadata": {},
   "outputs": [
    {
     "data": {
      "text/plain": [
       "array([3.80766021, 2.26049249, 2.97646435, 3.10068452, 4.06445499])"
      ]
     },
     "execution_count": 17,
     "metadata": {},
     "output_type": "execute_result"
    },
    {
     "data": {
      "text/plain": [
       "array([ True, False, False,  True,  True])"
      ]
     },
     "execution_count": 17,
     "metadata": {},
     "output_type": "execute_result"
    },
    {
     "data": {
      "text/plain": [
       "(array([0, 3, 4]),)"
      ]
     },
     "execution_count": 17,
     "metadata": {},
     "output_type": "execute_result"
    },
    {
     "data": {
      "text/plain": [
       "array([3.80766021, 3.10068452, 4.06445499])"
      ]
     },
     "execution_count": 17,
     "metadata": {},
     "output_type": "execute_result"
    }
   ],
   "source": [
    "x = np.random.normal(3, 1, 5);x\n",
    "x > 3\n",
    "np.nonzero(x > 3) # return the index of element where the expression is true\n",
    "x[np.nonzero(x >3)]"
   ]
  },
  {
   "cell_type": "markdown",
   "metadata": {},
   "source": [
    "# bootstrap\n",
    "\n",
    "https://machinelearningmastery.com/a-gentle-introduction-to-the-bootstrap-method/\n",
    "\n",
    "bootstrap is a sampling techincal: random sampling with replacement. so in one bootstrap sample, the one sample may appear 0, 1, or more times. \n",
    "\n",
    "example: draw 3 samples from [0,1,2,3,4,5], bootstrapping works as follow:\n",
    "* drop one sample first, for example, 2, then place 2 back. \n",
    "* draw second sample, for example 5, place 5 back\n",
    "* draw thrid dample, for example 2.\n",
    "\n",
    "so the sample drawn is [2,5,2]"
   ]
  },
  {
   "cell_type": "code",
   "execution_count": 15,
   "metadata": {},
   "outputs": [
    {
     "data": {
      "text/plain": [
       "array([0, 1, 2, 3, 4])"
      ]
     },
     "execution_count": 15,
     "metadata": {},
     "output_type": "execute_result"
    },
    {
     "data": {
      "text/plain": [
       "array([[0, 1, 2, 3, 4],\n",
       "       [5, 6, 7, 8, 9]])"
      ]
     },
     "execution_count": 15,
     "metadata": {},
     "output_type": "execute_result"
    },
    {
     "data": {
      "text/plain": [
       "[array([0, 1, 2, 3, 4]), array([5, 6, 7, 8, 9])]"
      ]
     },
     "execution_count": 15,
     "metadata": {},
     "output_type": "execute_result"
    },
    {
     "data": {
      "text/plain": [
       "[[0, 1, 2, 3, 4], [5, 6, 7, 8, 9]]"
      ]
     },
     "execution_count": 15,
     "metadata": {},
     "output_type": "execute_result"
    },
    {
     "data": {
      "text/plain": [
       "range(0, 5)"
      ]
     },
     "execution_count": 15,
     "metadata": {},
     "output_type": "execute_result"
    },
    {
     "data": {
      "text/plain": [
       "[0, 1, 2, 3, 4]"
      ]
     },
     "execution_count": 15,
     "metadata": {},
     "output_type": "execute_result"
    }
   ],
   "source": [
    "np.arange(5) # return an array, has no np.range\n",
    "np.arange(10).reshape(2,5)\n",
    "list(np.arange(10).reshape(2,5)) # not recursive\n",
    "np.arange(10).reshape(2,5).tolist() # tolist() is recursive\n",
    "range(5) # range\n",
    "list(range(5)) # a list"
   ]
  },
  {
   "cell_type": "code",
   "execution_count": 16,
   "metadata": {},
   "outputs": [
    {
     "data": {
      "text/html": [
       "<div>\n",
       "<style scoped>\n",
       "    .dataframe tbody tr th:only-of-type {\n",
       "        vertical-align: middle;\n",
       "    }\n",
       "\n",
       "    .dataframe tbody tr th {\n",
       "        vertical-align: top;\n",
       "    }\n",
       "\n",
       "    .dataframe thead th {\n",
       "        text-align: right;\n",
       "    }\n",
       "</style>\n",
       "<table border=\"1\" class=\"dataframe\">\n",
       "  <thead>\n",
       "    <tr style=\"text-align: right;\">\n",
       "      <th></th>\n",
       "      <th>0</th>\n",
       "      <th>1</th>\n",
       "      <th>2</th>\n",
       "      <th>3</th>\n",
       "    </tr>\n",
       "  </thead>\n",
       "  <tbody>\n",
       "    <tr>\n",
       "      <td>0</td>\n",
       "      <td>0</td>\n",
       "      <td>1</td>\n",
       "      <td>2</td>\n",
       "      <td>3</td>\n",
       "    </tr>\n",
       "    <tr>\n",
       "      <td>1</td>\n",
       "      <td>4</td>\n",
       "      <td>5</td>\n",
       "      <td>6</td>\n",
       "      <td>7</td>\n",
       "    </tr>\n",
       "  </tbody>\n",
       "</table>\n",
       "</div>"
      ],
      "text/plain": [
       "   0  1  2  3\n",
       "0  0  1  2  3\n",
       "1  4  5  6  7"
      ]
     },
     "execution_count": 16,
     "metadata": {},
     "output_type": "execute_result"
    },
    {
     "data": {
      "text/html": [
       "<div>\n",
       "<style scoped>\n",
       "    .dataframe tbody tr th:only-of-type {\n",
       "        vertical-align: middle;\n",
       "    }\n",
       "\n",
       "    .dataframe tbody tr th {\n",
       "        vertical-align: top;\n",
       "    }\n",
       "\n",
       "    .dataframe thead th {\n",
       "        text-align: right;\n",
       "    }\n",
       "</style>\n",
       "<table border=\"1\" class=\"dataframe\">\n",
       "  <thead>\n",
       "    <tr style=\"text-align: right;\">\n",
       "      <th></th>\n",
       "      <th>0</th>\n",
       "      <th>1</th>\n",
       "      <th>2</th>\n",
       "      <th>3</th>\n",
       "      <th>4</th>\n",
       "    </tr>\n",
       "  </thead>\n",
       "  <tbody>\n",
       "    <tr>\n",
       "      <td>0</td>\n",
       "      <td>0</td>\n",
       "      <td>1</td>\n",
       "      <td>2</td>\n",
       "      <td>3</td>\n",
       "      <td>[[100, 200, 300], [44, 55, 66]]</td>\n",
       "    </tr>\n",
       "    <tr>\n",
       "      <td>1</td>\n",
       "      <td>4</td>\n",
       "      <td>5</td>\n",
       "      <td>6</td>\n",
       "      <td>7</td>\n",
       "      <td>[[5, 6, 7]]</td>\n",
       "    </tr>\n",
       "  </tbody>\n",
       "</table>\n",
       "</div>"
      ],
      "text/plain": [
       "   0  1  2  3                                4\n",
       "0  0  1  2  3  [[100, 200, 300], [44, 55, 66]]\n",
       "1  4  5  6  7                      [[5, 6, 7]]"
      ]
     },
     "execution_count": 16,
     "metadata": {},
     "output_type": "execute_result"
    },
    {
     "data": {
      "text/html": [
       "<div>\n",
       "<style scoped>\n",
       "    .dataframe tbody tr th:only-of-type {\n",
       "        vertical-align: middle;\n",
       "    }\n",
       "\n",
       "    .dataframe tbody tr th {\n",
       "        vertical-align: top;\n",
       "    }\n",
       "\n",
       "    .dataframe thead th {\n",
       "        text-align: right;\n",
       "    }\n",
       "</style>\n",
       "<table border=\"1\" class=\"dataframe\">\n",
       "  <thead>\n",
       "    <tr style=\"text-align: right;\">\n",
       "      <th></th>\n",
       "      <th>0</th>\n",
       "      <th>1</th>\n",
       "      <th>2</th>\n",
       "      <th>3</th>\n",
       "      <th>4</th>\n",
       "    </tr>\n",
       "  </thead>\n",
       "  <tbody>\n",
       "    <tr>\n",
       "      <td>0</td>\n",
       "      <td>0</td>\n",
       "      <td>1</td>\n",
       "      <td>2</td>\n",
       "      <td>3</td>\n",
       "      <td>[100, 200, 300]</td>\n",
       "    </tr>\n",
       "    <tr>\n",
       "      <td>0</td>\n",
       "      <td>0</td>\n",
       "      <td>1</td>\n",
       "      <td>2</td>\n",
       "      <td>3</td>\n",
       "      <td>[44, 55, 66]</td>\n",
       "    </tr>\n",
       "    <tr>\n",
       "      <td>1</td>\n",
       "      <td>4</td>\n",
       "      <td>5</td>\n",
       "      <td>6</td>\n",
       "      <td>7</td>\n",
       "      <td>[5, 6, 7]</td>\n",
       "    </tr>\n",
       "  </tbody>\n",
       "</table>\n",
       "</div>"
      ],
      "text/plain": [
       "   0  1  2  3                4\n",
       "0  0  1  2  3  [100, 200, 300]\n",
       "0  0  1  2  3     [44, 55, 66]\n",
       "1  4  5  6  7        [5, 6, 7]"
      ]
     },
     "execution_count": 16,
     "metadata": {},
     "output_type": "execute_result"
    },
    {
     "data": {
      "text/html": [
       "<div>\n",
       "<style scoped>\n",
       "    .dataframe tbody tr th:only-of-type {\n",
       "        vertical-align: middle;\n",
       "    }\n",
       "\n",
       "    .dataframe tbody tr th {\n",
       "        vertical-align: top;\n",
       "    }\n",
       "\n",
       "    .dataframe thead th {\n",
       "        text-align: right;\n",
       "    }\n",
       "</style>\n",
       "<table border=\"1\" class=\"dataframe\">\n",
       "  <thead>\n",
       "    <tr style=\"text-align: right;\">\n",
       "      <th></th>\n",
       "      <th>0</th>\n",
       "      <th>1</th>\n",
       "      <th>2</th>\n",
       "      <th>3</th>\n",
       "      <th>4</th>\n",
       "      <th>5</th>\n",
       "      <th>6</th>\n",
       "      <th>7</th>\n",
       "    </tr>\n",
       "  </thead>\n",
       "  <tbody>\n",
       "    <tr>\n",
       "      <td>0</td>\n",
       "      <td>0</td>\n",
       "      <td>1</td>\n",
       "      <td>2</td>\n",
       "      <td>3</td>\n",
       "      <td>[100, 200, 300]</td>\n",
       "      <td>100</td>\n",
       "      <td>200</td>\n",
       "      <td>300</td>\n",
       "    </tr>\n",
       "    <tr>\n",
       "      <td>0</td>\n",
       "      <td>0</td>\n",
       "      <td>1</td>\n",
       "      <td>2</td>\n",
       "      <td>3</td>\n",
       "      <td>[44, 55, 66]</td>\n",
       "      <td>44</td>\n",
       "      <td>55</td>\n",
       "      <td>66</td>\n",
       "    </tr>\n",
       "    <tr>\n",
       "      <td>1</td>\n",
       "      <td>4</td>\n",
       "      <td>5</td>\n",
       "      <td>6</td>\n",
       "      <td>7</td>\n",
       "      <td>[5, 6, 7]</td>\n",
       "      <td>5</td>\n",
       "      <td>6</td>\n",
       "      <td>7</td>\n",
       "    </tr>\n",
       "  </tbody>\n",
       "</table>\n",
       "</div>"
      ],
      "text/plain": [
       "   0  1  2  3                4    5    6    7\n",
       "0  0  1  2  3  [100, 200, 300]  100  200  300\n",
       "0  0  1  2  3     [44, 55, 66]   44   55   66\n",
       "1  4  5  6  7        [5, 6, 7]    5    6    7"
      ]
     },
     "execution_count": 16,
     "metadata": {},
     "output_type": "execute_result"
    }
   ],
   "source": [
    "dft = pd.DataFrame(np.arange(8).reshape(2,4))\n",
    "dft.head(2)\n",
    "dft[4] = [[[100, 200, 300], [44,55, 66]], [[5,6, 7]]]\n",
    "dft\n",
    "dft = dft.explode(4)\n",
    "dft\n",
    "dft[[5,6,7]] = pd.DataFrame(dft[4].values.tolist(), index=dft.index)\n",
    "dft"
   ]
  },
  {
   "cell_type": "code",
   "execution_count": 22,
   "metadata": {},
   "outputs": [
    {
     "data": {
      "text/html": [
       "<div>\n",
       "<style scoped>\n",
       "    .dataframe tbody tr th:only-of-type {\n",
       "        vertical-align: middle;\n",
       "    }\n",
       "\n",
       "    .dataframe tbody tr th {\n",
       "        vertical-align: top;\n",
       "    }\n",
       "\n",
       "    .dataframe thead th {\n",
       "        text-align: right;\n",
       "    }\n",
       "</style>\n",
       "<table border=\"1\" class=\"dataframe\">\n",
       "  <thead>\n",
       "    <tr style=\"text-align: right;\">\n",
       "      <th></th>\n",
       "      <th>0</th>\n",
       "      <th>1</th>\n",
       "      <th>2</th>\n",
       "    </tr>\n",
       "  </thead>\n",
       "  <tbody>\n",
       "    <tr>\n",
       "      <td>0</td>\n",
       "      <td>100</td>\n",
       "      <td>200</td>\n",
       "      <td>300</td>\n",
       "    </tr>\n",
       "    <tr>\n",
       "      <td>0</td>\n",
       "      <td>44</td>\n",
       "      <td>55</td>\n",
       "      <td>66</td>\n",
       "    </tr>\n",
       "    <tr>\n",
       "      <td>1</td>\n",
       "      <td>5</td>\n",
       "      <td>6</td>\n",
       "      <td>7</td>\n",
       "    </tr>\n",
       "  </tbody>\n",
       "</table>\n",
       "</div>"
      ],
      "text/plain": [
       "     0    1    2\n",
       "0  100  200  300\n",
       "0   44   55   66\n",
       "1    5    6    7"
      ]
     },
     "execution_count": 22,
     "metadata": {},
     "output_type": "execute_result"
    }
   ],
   "source": [
    "pd.DataFrame(dft[4].values.tolist(), index=dft.index)"
   ]
  },
  {
   "cell_type": "markdown",
   "metadata": {},
   "source": [
    "### read_csv, columns, shape, and head\n",
    "read demo file into a pandas dataframe, show column headers, number of rows and columns of the dataframe, show first 2 rows"
   ]
  },
  {
   "cell_type": "code",
   "execution_count": 23,
   "metadata": {},
   "outputs": [
    {
     "data": {
      "text/plain": [
       "Index(['chr', 'start', 'end', 'patients', 'num_strelka_patients', 'gene',\n",
       "       'feature_of_interest', 'num_normal_patients', 'num_mutationseq_patient',\n",
       "       'Reference_Allele', 'Tumor_Seq_Allele2', 'cum_pos', 'feature_colors',\n",
       "       'Clade', 'A7_count', 'A9_count'],\n",
       "      dtype='object')"
      ]
     },
     "execution_count": 23,
     "metadata": {},
     "output_type": "execute_result"
    },
    {
     "data": {
      "text/plain": [
       "(174, 16)"
      ]
     },
     "execution_count": 23,
     "metadata": {},
     "output_type": "execute_result"
    },
    {
     "data": {
      "text/html": [
       "<div>\n",
       "<style scoped>\n",
       "    .dataframe tbody tr th:only-of-type {\n",
       "        vertical-align: middle;\n",
       "    }\n",
       "\n",
       "    .dataframe tbody tr th {\n",
       "        vertical-align: top;\n",
       "    }\n",
       "\n",
       "    .dataframe thead th {\n",
       "        text-align: right;\n",
       "    }\n",
       "</style>\n",
       "<table border=\"1\" class=\"dataframe\">\n",
       "  <thead>\n",
       "    <tr style=\"text-align: right;\">\n",
       "      <th></th>\n",
       "      <th>chr</th>\n",
       "      <th>start</th>\n",
       "      <th>end</th>\n",
       "      <th>patients</th>\n",
       "      <th>num_strelka_patients</th>\n",
       "      <th>gene</th>\n",
       "      <th>feature_of_interest</th>\n",
       "      <th>num_normal_patients</th>\n",
       "      <th>num_mutationseq_patient</th>\n",
       "      <th>Reference_Allele</th>\n",
       "      <th>Tumor_Seq_Allele2</th>\n",
       "      <th>cum_pos</th>\n",
       "      <th>feature_colors</th>\n",
       "      <th>Clade</th>\n",
       "      <th>A7_count</th>\n",
       "      <th>A9_count</th>\n",
       "    </tr>\n",
       "  </thead>\n",
       "  <tbody>\n",
       "    <tr>\n",
       "      <td>0</td>\n",
       "      <td>3</td>\n",
       "      <td>183675458</td>\n",
       "      <td>183675459</td>\n",
       "      <td>S_99020;S_99120;S_99195</td>\n",
       "      <td>3</td>\n",
       "      <td>ABCC5</td>\n",
       "      <td>active_enhancer</td>\n",
       "      <td>0</td>\n",
       "      <td>5</td>\n",
       "      <td>C</td>\n",
       "      <td>T</td>\n",
       "      <td>676125452</td>\n",
       "      <td>green</td>\n",
       "      <td>A7;A9;A7</td>\n",
       "      <td>2</td>\n",
       "      <td>1</td>\n",
       "    </tr>\n",
       "    <tr>\n",
       "      <td>1</td>\n",
       "      <td>18</td>\n",
       "      <td>19268412</td>\n",
       "      <td>19268413</td>\n",
       "      <td>S_99120;S_99170;S_99197;S_99326;S_99354;S_9939...</td>\n",
       "      <td>8</td>\n",
       "      <td>ABHD3</td>\n",
       "      <td>active_enhancer</td>\n",
       "      <td>0</td>\n",
       "      <td>8</td>\n",
       "      <td>T</td>\n",
       "      <td>A</td>\n",
       "      <td>2600635486</td>\n",
       "      <td>green</td>\n",
       "      <td>A9;A7;A9;A7;A7;A9;A9;A9</td>\n",
       "      <td>3</td>\n",
       "      <td>5</td>\n",
       "    </tr>\n",
       "  </tbody>\n",
       "</table>\n",
       "</div>"
      ],
      "text/plain": [
       "   chr      start        end  \\\n",
       "0    3  183675458  183675459   \n",
       "1   18   19268412   19268413   \n",
       "\n",
       "                                            patients  num_strelka_patients  \\\n",
       "0                            S_99020;S_99120;S_99195                     3   \n",
       "1  S_99120;S_99170;S_99197;S_99326;S_99354;S_9939...                     8   \n",
       "\n",
       "    gene feature_of_interest  num_normal_patients  num_mutationseq_patient  \\\n",
       "0  ABCC5     active_enhancer                    0                        5   \n",
       "1  ABHD3     active_enhancer                    0                        8   \n",
       "\n",
       "  Reference_Allele Tumor_Seq_Allele2     cum_pos feature_colors  \\\n",
       "0                C                 T   676125452          green   \n",
       "1                T                 A  2600635486          green   \n",
       "\n",
       "                     Clade  A7_count  A9_count  \n",
       "0                 A7;A9;A7         2         1  \n",
       "1  A9;A7;A9;A7;A7;A9;A9;A9         3         5  "
      ]
     },
     "execution_count": 23,
     "metadata": {},
     "output_type": "execute_result"
    }
   ],
   "source": [
    "f = '/projects/trans_scratch/validations/workspace/szong/Cervical/notebook/demo.csv'\n",
    "df = pd.read_csv(f)\n",
    "df.columns\n",
    "df.shape\n",
    "df.head(2)"
   ]
  },
  {
   "cell_type": "markdown",
   "metadata": {},
   "source": [
    "### np.where\n",
    "annotate rows based on the values in relationship between two columns. For example, if A7_count > A9_count, annotate the entry as red; otherwise assign a color of blue."
   ]
  },
  {
   "cell_type": "code",
   "execution_count": 70,
   "metadata": {
    "scrolled": true
   },
   "outputs": [
    {
     "data": {
      "text/html": [
       "<div>\n",
       "<style scoped>\n",
       "    .dataframe tbody tr th:only-of-type {\n",
       "        vertical-align: middle;\n",
       "    }\n",
       "\n",
       "    .dataframe tbody tr th {\n",
       "        vertical-align: top;\n",
       "    }\n",
       "\n",
       "    .dataframe thead th {\n",
       "        text-align: right;\n",
       "    }\n",
       "</style>\n",
       "<table border=\"1\" class=\"dataframe\">\n",
       "  <thead>\n",
       "    <tr style=\"text-align: right;\">\n",
       "      <th></th>\n",
       "      <th>chr</th>\n",
       "      <th>start</th>\n",
       "      <th>end</th>\n",
       "      <th>patients</th>\n",
       "      <th>num_strelka_patients</th>\n",
       "      <th>gene</th>\n",
       "      <th>feature_of_interest</th>\n",
       "      <th>num_normal_patients</th>\n",
       "      <th>num_mutationseq_patient</th>\n",
       "      <th>Reference_Allele</th>\n",
       "      <th>Tumor_Seq_Allele2</th>\n",
       "      <th>cum_pos</th>\n",
       "      <th>feature_colors</th>\n",
       "      <th>Clade</th>\n",
       "      <th>A7_count</th>\n",
       "      <th>A9_count</th>\n",
       "      <th>clade_colors</th>\n",
       "    </tr>\n",
       "  </thead>\n",
       "  <tbody>\n",
       "    <tr>\n",
       "      <th>0</th>\n",
       "      <td>3</td>\n",
       "      <td>183675458</td>\n",
       "      <td>183675459</td>\n",
       "      <td>S_99020;S_99120;S_99195</td>\n",
       "      <td>3</td>\n",
       "      <td>ABCC5</td>\n",
       "      <td>active_enhancer</td>\n",
       "      <td>0</td>\n",
       "      <td>5</td>\n",
       "      <td>C</td>\n",
       "      <td>T</td>\n",
       "      <td>676125452</td>\n",
       "      <td>green</td>\n",
       "      <td>A7;A9;A7</td>\n",
       "      <td>2</td>\n",
       "      <td>1</td>\n",
       "      <td>red</td>\n",
       "    </tr>\n",
       "    <tr>\n",
       "      <th>1</th>\n",
       "      <td>18</td>\n",
       "      <td>19268412</td>\n",
       "      <td>19268413</td>\n",
       "      <td>S_99120;S_99170;S_99197;S_99326;S_99354;S_9939...</td>\n",
       "      <td>8</td>\n",
       "      <td>ABHD3</td>\n",
       "      <td>active_enhancer</td>\n",
       "      <td>0</td>\n",
       "      <td>8</td>\n",
       "      <td>T</td>\n",
       "      <td>A</td>\n",
       "      <td>2600635486</td>\n",
       "      <td>green</td>\n",
       "      <td>A9;A7;A9;A7;A7;A9;A9;A9</td>\n",
       "      <td>3</td>\n",
       "      <td>5</td>\n",
       "      <td>blue</td>\n",
       "    </tr>\n",
       "  </tbody>\n",
       "</table>\n",
       "</div>"
      ],
      "text/plain": [
       "   chr      start        end  \\\n",
       "0    3  183675458  183675459   \n",
       "1   18   19268412   19268413   \n",
       "\n",
       "                                            patients  num_strelka_patients  \\\n",
       "0                            S_99020;S_99120;S_99195                     3   \n",
       "1  S_99120;S_99170;S_99197;S_99326;S_99354;S_9939...                     8   \n",
       "\n",
       "    gene feature_of_interest  num_normal_patients  num_mutationseq_patient  \\\n",
       "0  ABCC5     active_enhancer                    0                        5   \n",
       "1  ABHD3     active_enhancer                    0                        8   \n",
       "\n",
       "  Reference_Allele Tumor_Seq_Allele2     cum_pos feature_colors  \\\n",
       "0                C                 T   676125452          green   \n",
       "1                T                 A  2600635486          green   \n",
       "\n",
       "                     Clade  A7_count  A9_count clade_colors  \n",
       "0                 A7;A9;A7         2         1          red  \n",
       "1  A9;A7;A9;A7;A7;A9;A9;A9         3         5         blue  "
      ]
     },
     "execution_count": 70,
     "metadata": {},
     "output_type": "execute_result"
    }
   ],
   "source": [
    "df['clade_colors'] = np.where((df.A7_count>df.A9_count), 'red', 'blue')\n",
    "df.head(2)"
   ]
  },
  {
   "cell_type": "markdown",
   "metadata": {},
   "source": [
    "### pd.crosstab\n",
    "crosstab can calculate frequency\n",
    "\n",
    "1) we can count the frequency of all chromosome and hotspot type combinations\n",
    "\n",
    "2) we can also calculate the relative frequencies across rows, columns, or all."
   ]
  },
  {
   "cell_type": "code",
   "execution_count": 34,
   "metadata": {},
   "outputs": [],
   "source": [
    "pd.crosstab??"
   ]
  },
  {
   "cell_type": "code",
   "execution_count": 12,
   "metadata": {},
   "outputs": [
    {
     "data": {
      "text/html": [
       "<div>\n",
       "<style scoped>\n",
       "    .dataframe tbody tr th:only-of-type {\n",
       "        vertical-align: middle;\n",
       "    }\n",
       "\n",
       "    .dataframe tbody tr th {\n",
       "        vertical-align: top;\n",
       "    }\n",
       "\n",
       "    .dataframe thead th {\n",
       "        text-align: right;\n",
       "    }\n",
       "</style>\n",
       "<table border=\"1\" class=\"dataframe\">\n",
       "  <thead>\n",
       "    <tr style=\"text-align: right;\">\n",
       "      <th>feature_of_interest</th>\n",
       "      <th>active_enhancer</th>\n",
       "      <th>other</th>\n",
       "      <th>potential_promoter</th>\n",
       "    </tr>\n",
       "    <tr>\n",
       "      <th>chr</th>\n",
       "      <th></th>\n",
       "      <th></th>\n",
       "      <th></th>\n",
       "    </tr>\n",
       "  </thead>\n",
       "  <tbody>\n",
       "    <tr>\n",
       "      <th>1</th>\n",
       "      <td>2</td>\n",
       "      <td>12</td>\n",
       "      <td>0</td>\n",
       "    </tr>\n",
       "    <tr>\n",
       "      <th>2</th>\n",
       "      <td>0</td>\n",
       "      <td>13</td>\n",
       "      <td>1</td>\n",
       "    </tr>\n",
       "  </tbody>\n",
       "</table>\n",
       "</div>"
      ],
      "text/plain": [
       "feature_of_interest  active_enhancer  other  potential_promoter\n",
       "chr                                                            \n",
       "1                                  2     12                   0\n",
       "2                                  0     13                   1"
      ]
     },
     "execution_count": 12,
     "metadata": {},
     "output_type": "execute_result"
    },
    {
     "data": {
      "text/html": [
       "<div>\n",
       "<style scoped>\n",
       "    .dataframe tbody tr th:only-of-type {\n",
       "        vertical-align: middle;\n",
       "    }\n",
       "\n",
       "    .dataframe tbody tr th {\n",
       "        vertical-align: top;\n",
       "    }\n",
       "\n",
       "    .dataframe thead th {\n",
       "        text-align: right;\n",
       "    }\n",
       "</style>\n",
       "<table border=\"1\" class=\"dataframe\">\n",
       "  <thead>\n",
       "    <tr style=\"text-align: right;\">\n",
       "      <th>feature_of_interest</th>\n",
       "      <th>active_enhancer</th>\n",
       "      <th>other</th>\n",
       "      <th>potential_promoter</th>\n",
       "    </tr>\n",
       "    <tr>\n",
       "      <th>chr</th>\n",
       "      <th></th>\n",
       "      <th></th>\n",
       "      <th></th>\n",
       "    </tr>\n",
       "  </thead>\n",
       "  <tbody>\n",
       "    <tr>\n",
       "      <th>1</th>\n",
       "      <td>0.083333</td>\n",
       "      <td>0.086957</td>\n",
       "      <td>0.000000</td>\n",
       "    </tr>\n",
       "    <tr>\n",
       "      <th>2</th>\n",
       "      <td>0.000000</td>\n",
       "      <td>0.094203</td>\n",
       "      <td>0.083333</td>\n",
       "    </tr>\n",
       "  </tbody>\n",
       "</table>\n",
       "</div>"
      ],
      "text/plain": [
       "feature_of_interest  active_enhancer     other  potential_promoter\n",
       "chr                                                               \n",
       "1                           0.083333  0.086957            0.000000\n",
       "2                           0.000000  0.094203            0.083333"
      ]
     },
     "execution_count": 12,
     "metadata": {},
     "output_type": "execute_result"
    },
    {
     "data": {
      "text/html": [
       "<div>\n",
       "<style scoped>\n",
       "    .dataframe tbody tr th:only-of-type {\n",
       "        vertical-align: middle;\n",
       "    }\n",
       "\n",
       "    .dataframe tbody tr th {\n",
       "        vertical-align: top;\n",
       "    }\n",
       "\n",
       "    .dataframe thead th {\n",
       "        text-align: right;\n",
       "    }\n",
       "</style>\n",
       "<table border=\"1\" class=\"dataframe\">\n",
       "  <thead>\n",
       "    <tr style=\"text-align: right;\">\n",
       "      <th>feature_of_interest</th>\n",
       "      <th>active_enhancer</th>\n",
       "      <th>other</th>\n",
       "      <th>potential_promoter</th>\n",
       "    </tr>\n",
       "    <tr>\n",
       "      <th>chr</th>\n",
       "      <th></th>\n",
       "      <th></th>\n",
       "      <th></th>\n",
       "    </tr>\n",
       "  </thead>\n",
       "  <tbody>\n",
       "    <tr>\n",
       "      <th>1</th>\n",
       "      <td>0.011494</td>\n",
       "      <td>0.068966</td>\n",
       "      <td>0.000000</td>\n",
       "    </tr>\n",
       "    <tr>\n",
       "      <th>2</th>\n",
       "      <td>0.000000</td>\n",
       "      <td>0.074713</td>\n",
       "      <td>0.005747</td>\n",
       "    </tr>\n",
       "  </tbody>\n",
       "</table>\n",
       "</div>"
      ],
      "text/plain": [
       "feature_of_interest  active_enhancer     other  potential_promoter\n",
       "chr                                                               \n",
       "1                           0.011494  0.068966            0.000000\n",
       "2                           0.000000  0.074713            0.005747"
      ]
     },
     "execution_count": 12,
     "metadata": {},
     "output_type": "execute_result"
    },
    {
     "data": {
      "text/html": [
       "<div>\n",
       "<style scoped>\n",
       "    .dataframe tbody tr th:only-of-type {\n",
       "        vertical-align: middle;\n",
       "    }\n",
       "\n",
       "    .dataframe tbody tr th {\n",
       "        vertical-align: top;\n",
       "    }\n",
       "\n",
       "    .dataframe thead th {\n",
       "        text-align: right;\n",
       "    }\n",
       "</style>\n",
       "<table border=\"1\" class=\"dataframe\">\n",
       "  <thead>\n",
       "    <tr style=\"text-align: right;\">\n",
       "      <th>feature_of_interest</th>\n",
       "      <th>active_enhancer</th>\n",
       "      <th>other</th>\n",
       "      <th>potential_promoter</th>\n",
       "    </tr>\n",
       "    <tr>\n",
       "      <th>chr</th>\n",
       "      <th></th>\n",
       "      <th></th>\n",
       "      <th></th>\n",
       "    </tr>\n",
       "  </thead>\n",
       "  <tbody>\n",
       "    <tr>\n",
       "      <th>1</th>\n",
       "      <td>2.0</td>\n",
       "      <td>12.0</td>\n",
       "      <td>NaN</td>\n",
       "    </tr>\n",
       "    <tr>\n",
       "      <th>2</th>\n",
       "      <td>NaN</td>\n",
       "      <td>13.0</td>\n",
       "      <td>1.0</td>\n",
       "    </tr>\n",
       "  </tbody>\n",
       "</table>\n",
       "</div>"
      ],
      "text/plain": [
       "feature_of_interest  active_enhancer  other  potential_promoter\n",
       "chr                                                            \n",
       "1                                2.0   12.0                 NaN\n",
       "2                                NaN   13.0                 1.0"
      ]
     },
     "execution_count": 12,
     "metadata": {},
     "output_type": "execute_result"
    }
   ],
   "source": [
    "pd.crosstab(index=df['chr'], columns=df['feature_of_interest']).head(2)\n",
    "pd.crosstab(index=df['chr'], columns=df['feature_of_interest'], normalize='columns').head(2)\n",
    "pd.crosstab(index=df['chr'], columns=df['feature_of_interest'], normalize='all').head(2)\n",
    "df.pivot_table(index='chr', columns='feature_of_interest', aggfunc='size').head(2)"
   ]
  },
  {
   "cell_type": "markdown",
   "metadata": {},
   "source": [
    "### merge two dataframe based on multiple columns"
   ]
  },
  {
   "cell_type": "code",
   "execution_count": 71,
   "metadata": {},
   "outputs": [
    {
     "ename": "NameError",
     "evalue": "name 'df3' is not defined",
     "output_type": "error",
     "traceback": [
      "\u001b[0;31m---------------------------------------------------------------------------\u001b[0m",
      "\u001b[0;31mNameError\u001b[0m                                 Traceback (most recent call last)",
      "\u001b[0;32m<ipython-input-71-1bb29f92fca5>\u001b[0m in \u001b[0;36m<module>\u001b[0;34m()\u001b[0m\n\u001b[0;32m----> 1\u001b[0;31m dff = pd.merge(df, df3, left_on=['gene', 'chr', 'start_x', 'Reference_Allele', 'Tumor_Seq_Allele2'], \n\u001b[0m\u001b[1;32m      2\u001b[0m                right_on=['gene', 'chr', 'start_x', 'Reference_Allele', 'Tumor_Seq_Allele2'], how='left')\n",
      "\u001b[0;31mNameError\u001b[0m: name 'df3' is not defined"
     ]
    }
   ],
   "source": [
    "dff = pd.merge(df, df3, left_on=['gene', 'chr', 'start_x', 'Reference_Allele', 'Tumor_Seq_Allele2'], \n",
    "               right_on=['gene', 'chr', 'start_x', 'Reference_Allele', 'Tumor_Seq_Allele2'], how='left')\n"
   ]
  },
  {
   "cell_type": "markdown",
   "metadata": {},
   "source": [
    "### modify values in a column, use map or regex\n",
    " map a column to a new column with different values based on a predifined dictionary \n",
    " \n",
    " regex can be very powerful: https://docs.python.org/2/library/re.html"
   ]
  },
  {
   "cell_type": "code",
   "execution_count": null,
   "metadata": {},
   "outputs": [],
   "source": []
  },
  {
   "cell_type": "code",
   "execution_count": null,
   "metadata": {},
   "outputs": [],
   "source": [
    "df['indel_colors'] = df.KRAS_snvs_indels.map({'N':'grey', 'Y':'red', 'germline':'black'})\n",
    "dfn['patients_new'] = list(map(lambda x: x.replace('_T', ''), s))\n"
   ]
  },
  {
   "cell_type": "code",
   "execution_count": null,
   "metadata": {},
   "outputs": [],
   "source": [
    "df_cov.loc['clinical_stage',:] = df_cov.loc['clinical_stage',:].str.replace('[AB]\\d*', '')"
   ]
  },
  {
   "cell_type": "code",
   "execution_count": null,
   "metadata": {},
   "outputs": [],
   "source": [
    "# wide to long transformation, break entries in a column into multiple rows \n",
    "# string split to expand a dataframe to long form by splitting values in a column\n",
    "s = df.patients.str.split(';', expand=True).stack()\n",
    "idx = s.index.get_level_values(0)\n",
    "dfn = df.loc[idx]\n",
    "dfn['new_col'] = list(s)\n"
   ]
  },
  {
   "cell_type": "code",
   "execution_count": null,
   "metadata": {},
   "outputs": [],
   "source": [
    "df['cumsum_num_strelka'] = df.sort_values(['chr', 'start_x']).num_strela_patients.cumsum()\n",
    "# cumulative sum is useful, for example calculate the cumulative genome positions when plotting events along the genome"
   ]
  },
  {
   "cell_type": "code",
   "execution_count": null,
   "metadata": {},
   "outputs": [],
   "source": [
    "p = np.argmax(p_matrix, axis=1)\n",
    "# get the index of max value in a ndarray"
   ]
  },
  {
   "cell_type": "markdown",
   "metadata": {},
   "source": [
    "### groupby and aggregate\n",
    "groupby_aggregate is a powerful way to manipulate data. For instance, to get the mean, minimum, maxmum, and standard deviation of the aggregated series. The syntax is df.groupby(['group col1', 'group col2].agg({'aggregate col1':[min, max, std], 'aggregate col2':[agg_func1, agg_func2]}). This gives you a both row and column multiindexed dataframe. you could rename the columns and reset the index to flatten the index so that following manipulation is easier."
   ]
  },
  {
   "cell_type": "code",
   "execution_count": null,
   "metadata": {},
   "outputs": [],
   "source": [
    "df3 = df2.astype(str).groupby(['gene', 'chr', 'start_x', 'Reference_Allele', 'Tumor_Seq_Allele2']).\\\n",
    "agg({'hiv_status':[';'.join, count_pos, count_neg], 'previous_final_hist':';'.join, \\\n",
    "     'Clade':[';'.join, count_A7, count_A9]}).reset_index()\n",
    "df3.head(3)\n"
   ]
  },
  {
   "cell_type": "code",
   "execution_count": null,
   "metadata": {},
   "outputs": [],
   "source": [
    "df2['barcode'] = df2[['Sentrix Barcode', 'Sample Section']].astype(str).apply(lambda x: '_'.join(x), axis=1) \n",
    "dfy['region'] = dfy[['Chrom', 'left', 'right']].astype(str).apply(lambda x: x[0]+':'+x[1]+'-'+x[2], axis=1)\n",
    "# join two columns"
   ]
  },
  {
   "cell_type": "code",
   "execution_count": null,
   "metadata": {},
   "outputs": [],
   "source": [
    "barcode_dict = pd.Series(df2.sample_id.values,index=df2.barcode).to_dict()\n",
    "# fastest way to convert two df columns to a dictionary"
   ]
  },
  {
   "cell_type": "code",
   "execution_count": null,
   "metadata": {},
   "outputs": [],
   "source": [
    "dfy = dfy[~dfy.pos.astype(str).str.contains('\\(')]\n",
    "# drop rows based on values in a column that matches a pattern\n",
    "# replace only a few values in a column, you can give a list of things you would like to be replaced\n",
    "df['chr'] = df['chr'].replace(['X'], 23)"
   ]
  },
  {
   "cell_type": "markdown",
   "metadata": {},
   "source": [
    "pivot, pivot_table, and crosstab, crosstab is a function, not a pandas method\n",
    "1) pivot only reshapes dataframe, does not aggregate. can always be replaced by pivot_table\n",
    "\n",
    "2) always use pivot_table, need to provide aggfunc even if you just want to reshape the data"
   ]
  },
  {
   "cell_type": "code",
   "execution_count": 36,
   "metadata": {},
   "outputs": [
    {
     "data": {
      "text/html": [
       "<div>\n",
       "<style scoped>\n",
       "    .dataframe tbody tr th:only-of-type {\n",
       "        vertical-align: middle;\n",
       "    }\n",
       "\n",
       "    .dataframe tbody tr th {\n",
       "        vertical-align: top;\n",
       "    }\n",
       "\n",
       "    .dataframe thead th {\n",
       "        text-align: right;\n",
       "    }\n",
       "</style>\n",
       "<table border=\"1\" class=\"dataframe\">\n",
       "  <thead>\n",
       "    <tr style=\"text-align: right;\">\n",
       "      <th></th>\n",
       "      <th>alphas</th>\n",
       "      <th>species</th>\n",
       "      <th>prevalence</th>\n",
       "    </tr>\n",
       "  </thead>\n",
       "  <tbody>\n",
       "    <tr>\n",
       "      <td>0</td>\n",
       "      <td>[0.1 0.1 0.1]</td>\n",
       "      <td>lions</td>\n",
       "      <td>0.492063</td>\n",
       "    </tr>\n",
       "    <tr>\n",
       "      <td>1</td>\n",
       "      <td>[1 1 1]</td>\n",
       "      <td>lions</td>\n",
       "      <td>0.444444</td>\n",
       "    </tr>\n",
       "  </tbody>\n",
       "</table>\n",
       "</div>"
      ],
      "text/plain": [
       "          alphas species  prevalence\n",
       "0  [0.1 0.1 0.1]   lions    0.492063\n",
       "1        [1 1 1]   lions    0.444444"
      ]
     },
     "execution_count": 36,
     "metadata": {},
     "output_type": "execute_result"
    },
    {
     "data": {
      "text/html": [
       "<div>\n",
       "<style scoped>\n",
       "    .dataframe tbody tr th:only-of-type {\n",
       "        vertical-align: middle;\n",
       "    }\n",
       "\n",
       "    .dataframe tbody tr th {\n",
       "        vertical-align: top;\n",
       "    }\n",
       "\n",
       "    .dataframe thead th {\n",
       "        text-align: right;\n",
       "    }\n",
       "</style>\n",
       "<table border=\"1\" class=\"dataframe\">\n",
       "  <thead>\n",
       "    <tr style=\"text-align: right;\">\n",
       "      <th></th>\n",
       "      <th>alphas</th>\n",
       "      <th>species</th>\n",
       "      <th>prevalence</th>\n",
       "    </tr>\n",
       "  </thead>\n",
       "  <tbody>\n",
       "    <tr>\n",
       "      <td>0</td>\n",
       "      <td>[0.1 0.1 0.1]</td>\n",
       "      <td>lions</td>\n",
       "      <td>0.492063</td>\n",
       "    </tr>\n",
       "    <tr>\n",
       "      <td>1</td>\n",
       "      <td>[1 1 1]</td>\n",
       "      <td>lions</td>\n",
       "      <td>0.444444</td>\n",
       "    </tr>\n",
       "    <tr>\n",
       "      <td>2</td>\n",
       "      <td>[5 5 5]</td>\n",
       "      <td>lions</td>\n",
       "      <td>0.380952</td>\n",
       "    </tr>\n",
       "    <tr>\n",
       "      <td>3</td>\n",
       "      <td>[15 15 15]</td>\n",
       "      <td>lions</td>\n",
       "      <td>0.352941</td>\n",
       "    </tr>\n",
       "    <tr>\n",
       "      <td>4</td>\n",
       "      <td>[0.1 0.1 0.1]</td>\n",
       "      <td>tigers</td>\n",
       "      <td>0.333333</td>\n",
       "    </tr>\n",
       "    <tr>\n",
       "      <td>5</td>\n",
       "      <td>[1 1 1]</td>\n",
       "      <td>tigers</td>\n",
       "      <td>0.333333</td>\n",
       "    </tr>\n",
       "    <tr>\n",
       "      <td>6</td>\n",
       "      <td>[5 5 5]</td>\n",
       "      <td>tigers</td>\n",
       "      <td>0.333333</td>\n",
       "    </tr>\n",
       "    <tr>\n",
       "      <td>7</td>\n",
       "      <td>[15 15 15]</td>\n",
       "      <td>tigers</td>\n",
       "      <td>0.333333</td>\n",
       "    </tr>\n",
       "    <tr>\n",
       "      <td>8</td>\n",
       "      <td>[0.1 0.1 0.1]</td>\n",
       "      <td>bears</td>\n",
       "      <td>0.174603</td>\n",
       "    </tr>\n",
       "    <tr>\n",
       "      <td>9</td>\n",
       "      <td>[1 1 1]</td>\n",
       "      <td>bears</td>\n",
       "      <td>0.222222</td>\n",
       "    </tr>\n",
       "    <tr>\n",
       "      <td>10</td>\n",
       "      <td>[5 5 5]</td>\n",
       "      <td>bears</td>\n",
       "      <td>0.285714</td>\n",
       "    </tr>\n",
       "    <tr>\n",
       "      <td>11</td>\n",
       "      <td>[15 15 15]</td>\n",
       "      <td>bears</td>\n",
       "      <td>0.313725</td>\n",
       "    </tr>\n",
       "  </tbody>\n",
       "</table>\n",
       "</div>"
      ],
      "text/plain": [
       "           alphas species  prevalence\n",
       "0   [0.1 0.1 0.1]   lions    0.492063\n",
       "1         [1 1 1]   lions    0.444444\n",
       "2         [5 5 5]   lions    0.380952\n",
       "3      [15 15 15]   lions    0.352941\n",
       "4   [0.1 0.1 0.1]  tigers    0.333333\n",
       "5         [1 1 1]  tigers    0.333333\n",
       "6         [5 5 5]  tigers    0.333333\n",
       "7      [15 15 15]  tigers    0.333333\n",
       "8   [0.1 0.1 0.1]   bears    0.174603\n",
       "9         [1 1 1]   bears    0.222222\n",
       "10        [5 5 5]   bears    0.285714\n",
       "11     [15 15 15]   bears    0.313725"
      ]
     },
     "execution_count": 36,
     "metadata": {},
     "output_type": "execute_result"
    }
   ],
   "source": [
    "def times100(x):\n",
    "    return 100*x\n",
    "df = pd.read_csv('/projects/trans_scratch/validations/workspace/szong/Cervical/notebook/animals_long.txt')\n",
    "df.head(2)\n",
    "df"
   ]
  },
  {
   "cell_type": "code",
   "execution_count": 40,
   "metadata": {},
   "outputs": [
    {
     "data": {
      "text/html": [
       "<div>\n",
       "<style scoped>\n",
       "    .dataframe tbody tr th:only-of-type {\n",
       "        vertical-align: middle;\n",
       "    }\n",
       "\n",
       "    .dataframe tbody tr th {\n",
       "        vertical-align: top;\n",
       "    }\n",
       "\n",
       "    .dataframe thead th {\n",
       "        text-align: right;\n",
       "    }\n",
       "</style>\n",
       "<table border=\"1\" class=\"dataframe\">\n",
       "  <thead>\n",
       "    <tr style=\"text-align: right;\">\n",
       "      <th>species</th>\n",
       "      <th>alphas</th>\n",
       "      <th>bears</th>\n",
       "      <th>lions</th>\n",
       "      <th>tigers</th>\n",
       "    </tr>\n",
       "  </thead>\n",
       "  <tbody>\n",
       "    <tr>\n",
       "      <td>0</td>\n",
       "      <td>[0.1 0.1 0.1]</td>\n",
       "      <td>0.174603</td>\n",
       "      <td>0.492063</td>\n",
       "      <td>0.333333</td>\n",
       "    </tr>\n",
       "    <tr>\n",
       "      <td>1</td>\n",
       "      <td>[1 1 1]</td>\n",
       "      <td>0.222222</td>\n",
       "      <td>0.444444</td>\n",
       "      <td>0.333333</td>\n",
       "    </tr>\n",
       "    <tr>\n",
       "      <td>2</td>\n",
       "      <td>[15 15 15]</td>\n",
       "      <td>0.313725</td>\n",
       "      <td>0.352941</td>\n",
       "      <td>0.333333</td>\n",
       "    </tr>\n",
       "    <tr>\n",
       "      <td>3</td>\n",
       "      <td>[5 5 5]</td>\n",
       "      <td>0.285714</td>\n",
       "      <td>0.380952</td>\n",
       "      <td>0.333333</td>\n",
       "    </tr>\n",
       "  </tbody>\n",
       "</table>\n",
       "</div>"
      ],
      "text/plain": [
       "species         alphas     bears     lions    tigers\n",
       "0        [0.1 0.1 0.1]  0.174603  0.492063  0.333333\n",
       "1              [1 1 1]  0.222222  0.444444  0.333333\n",
       "2           [15 15 15]  0.313725  0.352941  0.333333\n",
       "3              [5 5 5]  0.285714  0.380952  0.333333"
      ]
     },
     "execution_count": 40,
     "metadata": {},
     "output_type": "execute_result"
    }
   ],
   "source": [
    "df2 = df.pivot(index='alphas', columns='species', values='prevalence').reset_index()\n",
    "df2"
   ]
  },
  {
   "cell_type": "code",
   "execution_count": 42,
   "metadata": {},
   "outputs": [
    {
     "data": {
      "text/html": [
       "<div>\n",
       "<style scoped>\n",
       "    .dataframe tbody tr th:only-of-type {\n",
       "        vertical-align: middle;\n",
       "    }\n",
       "\n",
       "    .dataframe tbody tr th {\n",
       "        vertical-align: top;\n",
       "    }\n",
       "\n",
       "    .dataframe thead th {\n",
       "        text-align: right;\n",
       "    }\n",
       "</style>\n",
       "<table border=\"1\" class=\"dataframe\">\n",
       "  <thead>\n",
       "    <tr style=\"text-align: right;\">\n",
       "      <th></th>\n",
       "      <th>alphas</th>\n",
       "      <th>animals</th>\n",
       "      <th>ori_prevalence</th>\n",
       "    </tr>\n",
       "  </thead>\n",
       "  <tbody>\n",
       "    <tr>\n",
       "      <td>0</td>\n",
       "      <td>[0.1 0.1 0.1]</td>\n",
       "      <td>bears</td>\n",
       "      <td>0.174603</td>\n",
       "    </tr>\n",
       "    <tr>\n",
       "      <td>1</td>\n",
       "      <td>[1 1 1]</td>\n",
       "      <td>bears</td>\n",
       "      <td>0.222222</td>\n",
       "    </tr>\n",
       "    <tr>\n",
       "      <td>2</td>\n",
       "      <td>[15 15 15]</td>\n",
       "      <td>bears</td>\n",
       "      <td>0.313725</td>\n",
       "    </tr>\n",
       "    <tr>\n",
       "      <td>3</td>\n",
       "      <td>[5 5 5]</td>\n",
       "      <td>bears</td>\n",
       "      <td>0.285714</td>\n",
       "    </tr>\n",
       "    <tr>\n",
       "      <td>4</td>\n",
       "      <td>[0.1 0.1 0.1]</td>\n",
       "      <td>lions</td>\n",
       "      <td>0.492063</td>\n",
       "    </tr>\n",
       "    <tr>\n",
       "      <td>5</td>\n",
       "      <td>[1 1 1]</td>\n",
       "      <td>lions</td>\n",
       "      <td>0.444444</td>\n",
       "    </tr>\n",
       "    <tr>\n",
       "      <td>6</td>\n",
       "      <td>[15 15 15]</td>\n",
       "      <td>lions</td>\n",
       "      <td>0.352941</td>\n",
       "    </tr>\n",
       "    <tr>\n",
       "      <td>7</td>\n",
       "      <td>[5 5 5]</td>\n",
       "      <td>lions</td>\n",
       "      <td>0.380952</td>\n",
       "    </tr>\n",
       "  </tbody>\n",
       "</table>\n",
       "</div>"
      ],
      "text/plain": [
       "          alphas animals  ori_prevalence\n",
       "0  [0.1 0.1 0.1]   bears        0.174603\n",
       "1        [1 1 1]   bears        0.222222\n",
       "2     [15 15 15]   bears        0.313725\n",
       "3        [5 5 5]   bears        0.285714\n",
       "4  [0.1 0.1 0.1]   lions        0.492063\n",
       "5        [1 1 1]   lions        0.444444\n",
       "6     [15 15 15]   lions        0.352941\n",
       "7        [5 5 5]   lions        0.380952"
      ]
     },
     "execution_count": 42,
     "metadata": {},
     "output_type": "execute_result"
    }
   ],
   "source": [
    "pd.melt(df2, id_vars='alphas', value_vars=['bears', 'lions'], value_name='ori_prevalence', var_name='animals')"
   ]
  },
  {
   "cell_type": "code",
   "execution_count": 38,
   "metadata": {},
   "outputs": [
    {
     "data": {
      "text/html": [
       "<div>\n",
       "<style scoped>\n",
       "    .dataframe tbody tr th:only-of-type {\n",
       "        vertical-align: middle;\n",
       "    }\n",
       "\n",
       "    .dataframe tbody tr th {\n",
       "        vertical-align: top;\n",
       "    }\n",
       "\n",
       "    .dataframe thead th {\n",
       "        text-align: right;\n",
       "    }\n",
       "</style>\n",
       "<table border=\"1\" class=\"dataframe\">\n",
       "  <thead>\n",
       "    <tr style=\"text-align: right;\">\n",
       "      <th>species</th>\n",
       "      <th>bears</th>\n",
       "      <th>lions</th>\n",
       "      <th>tigers</th>\n",
       "    </tr>\n",
       "    <tr>\n",
       "      <th>alphas</th>\n",
       "      <th></th>\n",
       "      <th></th>\n",
       "      <th></th>\n",
       "    </tr>\n",
       "  </thead>\n",
       "  <tbody>\n",
       "    <tr>\n",
       "      <td>[0.1 0.1 0.1]</td>\n",
       "      <td>0.174603</td>\n",
       "      <td>0.492063</td>\n",
       "      <td>0.333333</td>\n",
       "    </tr>\n",
       "    <tr>\n",
       "      <td>[1 1 1]</td>\n",
       "      <td>0.222222</td>\n",
       "      <td>0.444444</td>\n",
       "      <td>0.333333</td>\n",
       "    </tr>\n",
       "    <tr>\n",
       "      <td>[15 15 15]</td>\n",
       "      <td>0.313725</td>\n",
       "      <td>0.352941</td>\n",
       "      <td>0.333333</td>\n",
       "    </tr>\n",
       "    <tr>\n",
       "      <td>[5 5 5]</td>\n",
       "      <td>0.285714</td>\n",
       "      <td>0.380952</td>\n",
       "      <td>0.333333</td>\n",
       "    </tr>\n",
       "  </tbody>\n",
       "</table>\n",
       "</div>"
      ],
      "text/plain": [
       "species           bears     lions    tigers\n",
       "alphas                                     \n",
       "[0.1 0.1 0.1]  0.174603  0.492063  0.333333\n",
       "[1 1 1]        0.222222  0.444444  0.333333\n",
       "[15 15 15]     0.313725  0.352941  0.333333\n",
       "[5 5 5]        0.285714  0.380952  0.333333"
      ]
     },
     "execution_count": 38,
     "metadata": {},
     "output_type": "execute_result"
    }
   ],
   "source": [
    "# pivot a table, pivot_table?\n",
    "df3 = df.pivot_table(index='alphas', columns='species', values='prevalence', aggfunc=lambda x:x)# aggfunc=times100)\n",
    "df3"
   ]
  },
  {
   "cell_type": "code",
   "execution_count": 43,
   "metadata": {},
   "outputs": [
    {
     "data": {
      "text/html": [
       "<div>\n",
       "<style scoped>\n",
       "    .dataframe tbody tr th:only-of-type {\n",
       "        vertical-align: middle;\n",
       "    }\n",
       "\n",
       "    .dataframe tbody tr th {\n",
       "        vertical-align: top;\n",
       "    }\n",
       "\n",
       "    .dataframe thead th {\n",
       "        text-align: right;\n",
       "    }\n",
       "</style>\n",
       "<table border=\"1\" class=\"dataframe\">\n",
       "  <thead>\n",
       "    <tr style=\"text-align: right;\">\n",
       "      <th></th>\n",
       "      <th>patient</th>\n",
       "      <th>vcf</th>\n",
       "      <th>type</th>\n",
       "    </tr>\n",
       "  </thead>\n",
       "  <tbody>\n",
       "    <tr>\n",
       "      <td>0</td>\n",
       "      <td>HTMCP-03-06-02025</td>\n",
       "      <td>/projects/somatic/NCI_SAIC_HIV_Cervical/HTMCP-...</td>\n",
       "      <td>indels</td>\n",
       "    </tr>\n",
       "    <tr>\n",
       "      <td>1</td>\n",
       "      <td>HTMCP-03-06-02025</td>\n",
       "      <td>/projects/somatic/NCI_SAIC_HIV_Cervical/HTMCP-...</td>\n",
       "      <td>snvs</td>\n",
       "    </tr>\n",
       "  </tbody>\n",
       "</table>\n",
       "</div>"
      ],
      "text/plain": [
       "             patient                                                vcf  \\\n",
       "0  HTMCP-03-06-02025  /projects/somatic/NCI_SAIC_HIV_Cervical/HTMCP-...   \n",
       "1  HTMCP-03-06-02025  /projects/somatic/NCI_SAIC_HIV_Cervical/HTMCP-...   \n",
       "\n",
       "     type  \n",
       "0  indels  \n",
       "1    snvs  "
      ]
     },
     "execution_count": 43,
     "metadata": {},
     "output_type": "execute_result"
    }
   ],
   "source": [
    "### pivot_table for non-numerical values, long to wide transformation\n",
    "df1 = pd.read_csv('/projects/trans_scratch/validations/workspace/szong/Cervical/variant_bwamem/validation/strelka_classic_vcf_files.txt.test')\n",
    "df1.head(2)"
   ]
  },
  {
   "cell_type": "code",
   "execution_count": 44,
   "metadata": {},
   "outputs": [
    {
     "data": {
      "text/html": [
       "<div>\n",
       "<style scoped>\n",
       "    .dataframe tbody tr th:only-of-type {\n",
       "        vertical-align: middle;\n",
       "    }\n",
       "\n",
       "    .dataframe tbody tr th {\n",
       "        vertical-align: top;\n",
       "    }\n",
       "\n",
       "    .dataframe thead th {\n",
       "        text-align: right;\n",
       "    }\n",
       "</style>\n",
       "<table border=\"1\" class=\"dataframe\">\n",
       "  <thead>\n",
       "    <tr style=\"text-align: right;\">\n",
       "      <th></th>\n",
       "      <th>patient</th>\n",
       "      <th>indels</th>\n",
       "      <th>snvs</th>\n",
       "    </tr>\n",
       "  </thead>\n",
       "  <tbody>\n",
       "    <tr>\n",
       "      <td>0</td>\n",
       "      <td>HTMCP-03-06-02025</td>\n",
       "      <td>/projects/somatic/NCI_SAIC_HIV_Cervical/HTMCP-...</td>\n",
       "      <td>/projects/somatic/NCI_SAIC_HIV_Cervical/HTMCP-...</td>\n",
       "    </tr>\n",
       "    <tr>\n",
       "      <td>1</td>\n",
       "      <td>HTMCP-03-06-02044</td>\n",
       "      <td>/projects/somatic/NCI_SAIC_HIV_Cervical/HTMCP-...</td>\n",
       "      <td>/projects/somatic/NCI_SAIC_HIV_Cervical/HTMCP-...</td>\n",
       "    </tr>\n",
       "  </tbody>\n",
       "</table>\n",
       "</div>"
      ],
      "text/plain": [
       "             patient                                             indels  \\\n",
       "0  HTMCP-03-06-02025  /projects/somatic/NCI_SAIC_HIV_Cervical/HTMCP-...   \n",
       "1  HTMCP-03-06-02044  /projects/somatic/NCI_SAIC_HIV_Cervical/HTMCP-...   \n",
       "\n",
       "                                                snvs  \n",
       "0  /projects/somatic/NCI_SAIC_HIV_Cervical/HTMCP-...  \n",
       "1  /projects/somatic/NCI_SAIC_HIV_Cervical/HTMCP-...  "
      ]
     },
     "execution_count": 44,
     "metadata": {},
     "output_type": "execute_result"
    }
   ],
   "source": [
    "# both works, pivot_table for non_numerical values, long to wide transformation\n",
    "# df2 = pd.pivot_table(df1, index='patient', columns='type', values='vcf', aggfunc=lambda x: str(x.values[0])).reset_index()\n",
    "df2 = pd.pivot_table(df1, index='patient', columns='type', values='vcf', aggfunc=lambda x: ''.join([str(v) for v in x])).reset_index()\n",
    "df2.columns = ['patient', 'indels', 'snvs']\n",
    "df2.head(2)"
   ]
  },
  {
   "cell_type": "code",
   "execution_count": 6,
   "metadata": {},
   "outputs": [
    {
     "data": {
      "text/plain": [
       "Index(['chr', 'start', 'end', 'patients', 'num_strelka_patients', 'gene',\n",
       "       'feature_of_interest', 'num_normal_patients', 'num_mutationseq_patient',\n",
       "       'Reference_Allele', 'Tumor_Seq_Allele2', 'cum_pos', 'feature_colors',\n",
       "       'Clade', 'A7_count', 'A9_count'],\n",
       "      dtype='object')"
      ]
     },
     "execution_count": 6,
     "metadata": {},
     "output_type": "execute_result"
    },
    {
     "data": {
      "text/plain": [
       "(174, 16)"
      ]
     },
     "execution_count": 6,
     "metadata": {},
     "output_type": "execute_result"
    },
    {
     "data": {
      "text/html": [
       "<div>\n",
       "<style scoped>\n",
       "    .dataframe tbody tr th:only-of-type {\n",
       "        vertical-align: middle;\n",
       "    }\n",
       "\n",
       "    .dataframe tbody tr th {\n",
       "        vertical-align: top;\n",
       "    }\n",
       "\n",
       "    .dataframe thead th {\n",
       "        text-align: right;\n",
       "    }\n",
       "</style>\n",
       "<table border=\"1\" class=\"dataframe\">\n",
       "  <thead>\n",
       "    <tr style=\"text-align: right;\">\n",
       "      <th></th>\n",
       "      <th>chr</th>\n",
       "      <th>start</th>\n",
       "      <th>end</th>\n",
       "      <th>patients</th>\n",
       "      <th>num_strelka_patients</th>\n",
       "      <th>gene</th>\n",
       "      <th>feature_of_interest</th>\n",
       "      <th>num_normal_patients</th>\n",
       "      <th>num_mutationseq_patient</th>\n",
       "      <th>Reference_Allele</th>\n",
       "      <th>Tumor_Seq_Allele2</th>\n",
       "      <th>cum_pos</th>\n",
       "      <th>feature_colors</th>\n",
       "      <th>Clade</th>\n",
       "      <th>A7_count</th>\n",
       "      <th>A9_count</th>\n",
       "    </tr>\n",
       "  </thead>\n",
       "  <tbody>\n",
       "    <tr>\n",
       "      <th>0</th>\n",
       "      <td>3</td>\n",
       "      <td>183675458</td>\n",
       "      <td>183675459</td>\n",
       "      <td>S_99020;S_99120;S_99195</td>\n",
       "      <td>3</td>\n",
       "      <td>ABCC5</td>\n",
       "      <td>active_enhancer</td>\n",
       "      <td>0</td>\n",
       "      <td>5</td>\n",
       "      <td>C</td>\n",
       "      <td>T</td>\n",
       "      <td>676125452</td>\n",
       "      <td>green</td>\n",
       "      <td>A7;A9;A7</td>\n",
       "      <td>2</td>\n",
       "      <td>1</td>\n",
       "    </tr>\n",
       "    <tr>\n",
       "      <th>1</th>\n",
       "      <td>18</td>\n",
       "      <td>19268412</td>\n",
       "      <td>19268413</td>\n",
       "      <td>S_99120;S_99170;S_99197;S_99326;S_99354;S_9939...</td>\n",
       "      <td>8</td>\n",
       "      <td>ABHD3</td>\n",
       "      <td>active_enhancer</td>\n",
       "      <td>0</td>\n",
       "      <td>8</td>\n",
       "      <td>T</td>\n",
       "      <td>A</td>\n",
       "      <td>2600635486</td>\n",
       "      <td>green</td>\n",
       "      <td>A9;A7;A9;A7;A7;A9;A9;A9</td>\n",
       "      <td>3</td>\n",
       "      <td>5</td>\n",
       "    </tr>\n",
       "  </tbody>\n",
       "</table>\n",
       "</div>"
      ],
      "text/plain": [
       "   chr      start        end  \\\n",
       "0    3  183675458  183675459   \n",
       "1   18   19268412   19268413   \n",
       "\n",
       "                                            patients  num_strelka_patients  \\\n",
       "0                            S_99020;S_99120;S_99195                     3   \n",
       "1  S_99120;S_99170;S_99197;S_99326;S_99354;S_9939...                     8   \n",
       "\n",
       "    gene feature_of_interest  num_normal_patients  num_mutationseq_patient  \\\n",
       "0  ABCC5     active_enhancer                    0                        5   \n",
       "1  ABHD3     active_enhancer                    0                        8   \n",
       "\n",
       "  Reference_Allele Tumor_Seq_Allele2     cum_pos feature_colors  \\\n",
       "0                C                 T   676125452          green   \n",
       "1                T                 A  2600635486          green   \n",
       "\n",
       "                     Clade  A7_count  A9_count  \n",
       "0                 A7;A9;A7         2         1  \n",
       "1  A9;A7;A9;A7;A7;A9;A9;A9         3         5  "
      ]
     },
     "execution_count": 6,
     "metadata": {},
     "output_type": "execute_result"
    }
   ],
   "source": [
    "\n",
    "df2 = pd.pivot_table(df1, index='patient', columns='type', values='vcf', aggfunc=lambda x: ''.join([str(v) for v in x])).reset_index()"
   ]
  },
  {
   "cell_type": "markdown",
   "metadata": {},
   "source": [
    "### melt and stack\n",
    "1) melt and stack reshape data in exactly the same way.\n",
    "\n",
    "2) melt: two parameters, id_vars which are the column names that are to remain vertical (and not reshaped) and value_vars which are the column names to be reshaped into a single column.\n",
    "\n",
    "3) use melt over stack because melt allows you to rename columns and avoids multiindex.\n"
   ]
  },
  {
   "cell_type": "code",
   "execution_count": 2,
   "metadata": {},
   "outputs": [
    {
     "name": "stdout",
     "output_type": "stream",
     "text": [
      "      lions    tigers     bears         alphas\n",
      "0  0.492063  0.333333  0.174603  [0.1 0.1 0.1]\n",
      "1  0.444444  0.333333  0.222222        [1 1 1]\n",
      "2  0.380952  0.333333  0.285714        [5 5 5]\n",
      "3  0.352941  0.333333  0.313725     [15 15 15]\n",
      "           alphas species  prevalence\n",
      "0   [0.1 0.1 0.1]   lions    0.492063\n",
      "1         [1 1 1]   lions    0.444444\n",
      "2         [5 5 5]   lions    0.380952\n",
      "3      [15 15 15]   lions    0.352941\n",
      "4   [0.1 0.1 0.1]  tigers    0.333333\n",
      "5         [1 1 1]  tigers    0.333333\n",
      "6         [5 5 5]  tigers    0.333333\n",
      "7      [15 15 15]  tigers    0.333333\n",
      "8   [0.1 0.1 0.1]   bears    0.174603\n",
      "9         [1 1 1]   bears    0.222222\n",
      "10        [5 5 5]   bears    0.285714\n",
      "11     [15 15 15]   bears    0.313725\n"
     ]
    }
   ],
   "source": [
    "# melt wide form to long form, it is like unpivot. pivot long to wide\n",
    "value_df = pd.read_csv('/projects/trans_scratch/validations/workspace/szong/Cervical/notebook/animals.txt')\n",
    "print(value_df)\n",
    "melted = pd.melt(value_df, id_vars = 'alphas', value_vars=['lions', 'tigers', 'bears'], value_name='prevalence',\n",
    "        var_name = 'species')\n",
    "print(melted)"
   ]
  },
  {
   "cell_type": "code",
   "execution_count": 3,
   "metadata": {
    "scrolled": true
   },
   "outputs": [
    {
     "data": {
      "text/plain": [
       "alphas               \n",
       "[0.1 0.1 0.1]  lions     0.492063\n",
       "               tigers    0.333333\n",
       "               bears     0.174603\n",
       "[1 1 1]        lions     0.444444\n",
       "               tigers    0.333333\n",
       "               bears     0.222222\n",
       "[5 5 5]        lions     0.380952\n",
       "               tigers    0.333333\n",
       "               bears     0.285714\n",
       "[15 15 15]     lions     0.352941\n",
       "               tigers    0.333333\n",
       "               bears     0.313725\n",
       "dtype: float64"
      ]
     },
     "execution_count": 3,
     "metadata": {},
     "output_type": "execute_result"
    }
   ],
   "source": [
    "# use stack can achieve identical results, stack works with index\n",
    "value_df.set_index('alphas').stack()"
   ]
  },
  {
   "cell_type": "code",
   "execution_count": 4,
   "metadata": {},
   "outputs": [
    {
     "data": {
      "image/png": "[encoded data removed]",
      "text/plain": [
       "<Figure size 576x432 with 1 Axes>"
      ]
     },
     "metadata": {},
     "output_type": "display_data"
    }
   ],
   "source": [
    "# melted.to_csv('/projects/trans_scratch/validations/workspace/szong/Cervical/notebook/animals_long.txt', index=False)\n",
    "plt.figure(figsize = (8, 6))\n",
    "sns.barplot(x = 'alphas', y = 'prevalence', hue = 'species', data = melted,\n",
    "            edgecolor = 'k', linewidth = 1.5);\n",
    "plt.xticks(size = 14); \n",
    "plt.yticks(size = 14)\n",
    "plt.title('Expected Value');"
   ]
  },
  {
   "cell_type": "markdown",
   "metadata": {},
   "source": [
    "minimal sufficient python apis: will go through them at some point\n",
    "Attributes\n",
    "columns\n",
    "dtypes\n",
    "index\n",
    "shape\n",
    "T\n",
    "values\n",
    "\n",
    "Aggregation Methods\n",
    "all\n",
    "any\n",
    "count\n",
    "describe\n",
    "idxmax\n",
    "idxmin\n",
    "max\n",
    "mean\n",
    "median\n",
    "min\n",
    "mode\n",
    "nunique\n",
    "sum\n",
    "std\n",
    "var\n",
    "\n",
    "Non-Aggretaion Statistical Methods\n",
    "abs\n",
    "clip\n",
    "corr\n",
    "cov\n",
    "cummax\n",
    "cummin\n",
    "cumprod\n",
    "cumsum\n",
    "diff\n",
    "nlargest\n",
    "nsmallest\n",
    "pct_change\n",
    "prod\n",
    "quantile\n",
    "rank\n",
    "round\n",
    "\n",
    "Subset Selection\n",
    "head\n",
    "iloc\n",
    "loc\n",
    "tail\n",
    "\n",
    "Missing Value Handling\n",
    "dropna\n",
    "fillna\n",
    "interpolate\n",
    "isna\n",
    "notna\n",
    "\n",
    "Grouping\n",
    "expanding\n",
    "groupby\n",
    "pivot_table\n",
    "resample\n",
    "rolling\n",
    "\n",
    "Joining Data\n",
    "append\n",
    "merge\n",
    "\n",
    "Other\n",
    "asfreq\n",
    "astype\n",
    "copy\n",
    "drop\n",
    "drop_duplicates\n",
    "equals\n",
    "isin\n",
    "melt\n",
    "plot\n",
    "rename\n",
    "replace\n",
    "reset_index\n",
    "sample\n",
    "select_dtypes\n",
    "shift\n",
    "sort_index\n",
    "sort_values\n",
    "to_csv\n",
    "to_json\n",
    "to_sql\n",
    "Functions\n",
    "pd.concat\n",
    "pd.crosstab\n",
    "pd.cut\n",
    "pd.qcut\n",
    "pd.read_csv\n",
    "pd.read_json\n",
    "pd.read_sql\n",
    "pd.to_datetime\n",
    "pd.to_timedelta"
   ]
  },
  {
   "cell_type": "markdown",
   "metadata": {},
   "source": [
    "### removed duplicate index, this works for multiple index as well"
   ]
  },
  {
   "cell_type": "code",
   "execution_count": 61,
   "metadata": {},
   "outputs": [
    {
     "data": {
      "text/html": [
       "<div>\n",
       "<style scoped>\n",
       "    .dataframe tbody tr th:only-of-type {\n",
       "        vertical-align: middle;\n",
       "    }\n",
       "\n",
       "    .dataframe tbody tr th {\n",
       "        vertical-align: top;\n",
       "    }\n",
       "\n",
       "    .dataframe thead th {\n",
       "        text-align: right;\n",
       "    }\n",
       "</style>\n",
       "<table border=\"1\" class=\"dataframe\">\n",
       "  <thead>\n",
       "    <tr style=\"text-align: right;\">\n",
       "      <th></th>\n",
       "      <th>refseq</th>\n",
       "      <th>gene</th>\n",
       "      <th>symb</th>\n",
       "      <th>locus_id</th>\n",
       "      <th>chr</th>\n",
       "      <th>strand</th>\n",
       "      <th>start</th>\n",
       "      <th>nd</th>\n",
       "      <th>cds_start</th>\n",
       "      <th>cds_end</th>\n",
       "      <th>status</th>\n",
       "      <th>chrn</th>\n",
       "    </tr>\n",
       "  </thead>\n",
       "  <tbody>\n",
       "    <tr>\n",
       "      <th>0</th>\n",
       "      <td>NM_000014</td>\n",
       "      <td>alpha-2-macroglobulin precursor</td>\n",
       "      <td>A2M</td>\n",
       "      <td>2</td>\n",
       "      <td>chr12</td>\n",
       "      <td>0</td>\n",
       "      <td>9220303</td>\n",
       "      <td>9268558</td>\n",
       "      <td>9220418</td>\n",
       "      <td>9268445</td>\n",
       "      <td>Reviewed</td>\n",
       "      <td>12</td>\n",
       "    </tr>\n",
       "    <tr>\n",
       "      <th>1</th>\n",
       "      <td>NM_000015</td>\n",
       "      <td>arylamine N-acetyltransferase 2</td>\n",
       "      <td>NAT2</td>\n",
       "      <td>10</td>\n",
       "      <td>chr8</td>\n",
       "      <td>1</td>\n",
       "      <td>18248754</td>\n",
       "      <td>18258723</td>\n",
       "      <td>18257513</td>\n",
       "      <td>18258386</td>\n",
       "      <td>Reviewed</td>\n",
       "      <td>8</td>\n",
       "    </tr>\n",
       "  </tbody>\n",
       "</table>\n",
       "</div>"
      ],
      "text/plain": [
       "      refseq                             gene  symb  locus_id    chr  strand  \\\n",
       "0  NM_000014  alpha-2-macroglobulin precursor   A2M         2  chr12       0   \n",
       "1  NM_000015  arylamine N-acetyltransferase 2  NAT2        10   chr8       1   \n",
       "\n",
       "      start        nd  cds_start   cds_end    status  chrn  \n",
       "0   9220303   9268558    9220418   9268445  Reviewed    12  \n",
       "1  18248754  18258723   18257513  18258386  Reviewed     8  "
      ]
     },
     "execution_count": 61,
     "metadata": {},
     "output_type": "execute_result"
    },
    {
     "data": {
      "text/plain": [
       "(40430, 12)"
      ]
     },
     "execution_count": 61,
     "metadata": {},
     "output_type": "execute_result"
    }
   ],
   "source": [
    "# use gistic refgenefile including both the cytoband and ref genes\n",
    "f1 = '/projects/da_workspace/software/gistic/rg.txt'\n",
    "df1 = pd.read_csv(f1)\n",
    "df1.head(2)\n",
    "# df1 = df1.set_index(['chrn', 'start', 'nd'])\n",
    "df1.shape"
   ]
  },
  {
   "cell_type": "code",
   "execution_count": 62,
   "metadata": {},
   "outputs": [
    {
     "data": {
      "text/plain": [
       "Int64Index([], dtype='int64')"
      ]
     },
     "execution_count": 62,
     "metadata": {},
     "output_type": "execute_result"
    }
   ],
   "source": [
    "s = pd.Series(df1.head(700).index.duplicated())\n",
    "s[s].index"
   ]
  },
  {
   "cell_type": "code",
   "execution_count": 67,
   "metadata": {},
   "outputs": [
    {
     "data": {
      "text/html": [
       "<div>\n",
       "<style scoped>\n",
       "    .dataframe tbody tr th:only-of-type {\n",
       "        vertical-align: middle;\n",
       "    }\n",
       "\n",
       "    .dataframe tbody tr th {\n",
       "        vertical-align: top;\n",
       "    }\n",
       "\n",
       "    .dataframe thead th {\n",
       "        text-align: right;\n",
       "    }\n",
       "</style>\n",
       "<table border=\"1\" class=\"dataframe\">\n",
       "  <thead>\n",
       "    <tr style=\"text-align: right;\">\n",
       "      <th></th>\n",
       "      <th>refseq</th>\n",
       "      <th>gene</th>\n",
       "      <th>symb</th>\n",
       "      <th>locus_id</th>\n",
       "      <th>chr</th>\n",
       "      <th>strand</th>\n",
       "      <th>start</th>\n",
       "      <th>nd</th>\n",
       "      <th>cds_start</th>\n",
       "      <th>cds_end</th>\n",
       "      <th>status</th>\n",
       "      <th>chrn</th>\n",
       "    </tr>\n",
       "  </thead>\n",
       "  <tbody>\n",
       "    <tr>\n",
       "      <th>607</th>\n",
       "      <td>NM_000643</td>\n",
       "      <td>glycogen debranching enzyme isoform 1</td>\n",
       "      <td>AGL</td>\n",
       "      <td>178</td>\n",
       "      <td>chr1</td>\n",
       "      <td>1</td>\n",
       "      <td>100316044</td>\n",
       "      <td>100389579</td>\n",
       "      <td>100316598</td>\n",
       "      <td>100387207</td>\n",
       "      <td>Reviewed</td>\n",
       "      <td>1</td>\n",
       "    </tr>\n",
       "    <tr>\n",
       "      <th>608</th>\n",
       "      <td>NM_000644</td>\n",
       "      <td>glycogen debranching enzyme isoform 1</td>\n",
       "      <td>AGL</td>\n",
       "      <td>178</td>\n",
       "      <td>chr1</td>\n",
       "      <td>1</td>\n",
       "      <td>100316044</td>\n",
       "      <td>100389579</td>\n",
       "      <td>100316598</td>\n",
       "      <td>100387207</td>\n",
       "      <td>Reviewed</td>\n",
       "      <td>1</td>\n",
       "    </tr>\n",
       "    <tr>\n",
       "      <th>609</th>\n",
       "      <td>NM_000645</td>\n",
       "      <td>glycogen debranching enzyme isoform 2</td>\n",
       "      <td>AGL</td>\n",
       "      <td>178</td>\n",
       "      <td>chr1</td>\n",
       "      <td>1</td>\n",
       "      <td>100326765</td>\n",
       "      <td>100389579</td>\n",
       "      <td>100327027</td>\n",
       "      <td>100387207</td>\n",
       "      <td>Reviewed</td>\n",
       "      <td>1</td>\n",
       "    </tr>\n",
       "    <tr>\n",
       "      <th>610</th>\n",
       "      <td>NM_000646</td>\n",
       "      <td>glycogen debranching enzyme isoform 3</td>\n",
       "      <td>AGL</td>\n",
       "      <td>178</td>\n",
       "      <td>chr1</td>\n",
       "      <td>1</td>\n",
       "      <td>100316530</td>\n",
       "      <td>100389579</td>\n",
       "      <td>100318225</td>\n",
       "      <td>100387207</td>\n",
       "      <td>Reviewed</td>\n",
       "      <td>1</td>\n",
       "    </tr>\n",
       "    <tr>\n",
       "      <th>611</th>\n",
       "      <td>NM_000651</td>\n",
       "      <td>complement receptor type 1 isoform S precursor</td>\n",
       "      <td>CR1</td>\n",
       "      <td>1378</td>\n",
       "      <td>chr1</td>\n",
       "      <td>1</td>\n",
       "      <td>207669472</td>\n",
       "      <td>207815110</td>\n",
       "      <td>207669612</td>\n",
       "      <td>207812754</td>\n",
       "      <td>Reviewed</td>\n",
       "      <td>1</td>\n",
       "    </tr>\n",
       "    <tr>\n",
       "      <th>612</th>\n",
       "      <td>NM_000655</td>\n",
       "      <td>L-selectin precursor</td>\n",
       "      <td>SELL</td>\n",
       "      <td>6402</td>\n",
       "      <td>chr1</td>\n",
       "      <td>0</td>\n",
       "      <td>169659805</td>\n",
       "      <td>169680843</td>\n",
       "      <td>169660924</td>\n",
       "      <td>169680678</td>\n",
       "      <td>Reviewed</td>\n",
       "      <td>1</td>\n",
       "    </tr>\n",
       "    <tr>\n",
       "      <th>613</th>\n",
       "      <td>NM_000657</td>\n",
       "      <td>apoptosis regulator Bcl-2 beta isoform</td>\n",
       "      <td>BCL2</td>\n",
       "      <td>596</td>\n",
       "      <td>chr18</td>\n",
       "      <td>0</td>\n",
       "      <td>60985186</td>\n",
       "      <td>60986613</td>\n",
       "      <td>60985281</td>\n",
       "      <td>60985899</td>\n",
       "      <td>Reviewed</td>\n",
       "      <td>18</td>\n",
       "    </tr>\n",
       "    <tr>\n",
       "      <th>614</th>\n",
       "      <td>NM_000658</td>\n",
       "      <td>autoimmune regulator isoform 2</td>\n",
       "      <td>AIRE</td>\n",
       "      <td>326</td>\n",
       "      <td>chr21</td>\n",
       "      <td>1</td>\n",
       "      <td>45710273</td>\n",
       "      <td>45718110</td>\n",
       "      <td>45710689</td>\n",
       "      <td>45717610</td>\n",
       "      <td>Reviewed</td>\n",
       "      <td>21</td>\n",
       "    </tr>\n",
       "  </tbody>\n",
       "</table>\n",
       "</div>"
      ],
      "text/plain": [
       "        refseq                                            gene  symb  \\\n",
       "607  NM_000643           glycogen debranching enzyme isoform 1   AGL   \n",
       "608  NM_000644           glycogen debranching enzyme isoform 1   AGL   \n",
       "609  NM_000645           glycogen debranching enzyme isoform 2   AGL   \n",
       "610  NM_000646           glycogen debranching enzyme isoform 3   AGL   \n",
       "611  NM_000651  complement receptor type 1 isoform S precursor   CR1   \n",
       "612  NM_000655                            L-selectin precursor  SELL   \n",
       "613  NM_000657          apoptosis regulator Bcl-2 beta isoform  BCL2   \n",
       "614  NM_000658                  autoimmune regulator isoform 2  AIRE   \n",
       "\n",
       "     locus_id    chr  strand      start         nd  cds_start    cds_end  \\\n",
       "607       178   chr1       1  100316044  100389579  100316598  100387207   \n",
       "608       178   chr1       1  100316044  100389579  100316598  100387207   \n",
       "609       178   chr1       1  100326765  100389579  100327027  100387207   \n",
       "610       178   chr1       1  100316530  100389579  100318225  100387207   \n",
       "611      1378   chr1       1  207669472  207815110  207669612  207812754   \n",
       "612      6402   chr1       0  169659805  169680843  169660924  169680678   \n",
       "613       596  chr18       0   60985186   60986613   60985281   60985899   \n",
       "614       326  chr21       1   45710273   45718110   45710689   45717610   \n",
       "\n",
       "       status  chrn  \n",
       "607  Reviewed     1  \n",
       "608  Reviewed     1  \n",
       "609  Reviewed     1  \n",
       "610  Reviewed     1  \n",
       "611  Reviewed     1  \n",
       "612  Reviewed     1  \n",
       "613  Reviewed    18  \n",
       "614  Reviewed    21  "
      ]
     },
     "execution_count": 67,
     "metadata": {},
     "output_type": "execute_result"
    },
    {
     "data": {
      "text/html": [
       "<div>\n",
       "<style scoped>\n",
       "    .dataframe tbody tr th:only-of-type {\n",
       "        vertical-align: middle;\n",
       "    }\n",
       "\n",
       "    .dataframe tbody tr th {\n",
       "        vertical-align: top;\n",
       "    }\n",
       "\n",
       "    .dataframe thead th {\n",
       "        text-align: right;\n",
       "    }\n",
       "</style>\n",
       "<table border=\"1\" class=\"dataframe\">\n",
       "  <thead>\n",
       "    <tr style=\"text-align: right;\">\n",
       "      <th></th>\n",
       "      <th>refseq</th>\n",
       "      <th>gene</th>\n",
       "      <th>symb</th>\n",
       "      <th>locus_id</th>\n",
       "      <th>chr</th>\n",
       "      <th>strand</th>\n",
       "      <th>start</th>\n",
       "      <th>nd</th>\n",
       "      <th>cds_start</th>\n",
       "      <th>cds_end</th>\n",
       "      <th>status</th>\n",
       "      <th>chrn</th>\n",
       "    </tr>\n",
       "  </thead>\n",
       "  <tbody>\n",
       "    <tr>\n",
       "      <th>612</th>\n",
       "      <td>NM_000655</td>\n",
       "      <td>L-selectin precursor</td>\n",
       "      <td>SELL</td>\n",
       "      <td>6402</td>\n",
       "      <td>chr1</td>\n",
       "      <td>0</td>\n",
       "      <td>169659805</td>\n",
       "      <td>169680843</td>\n",
       "      <td>169660924</td>\n",
       "      <td>169680678</td>\n",
       "      <td>Reviewed</td>\n",
       "      <td>1</td>\n",
       "    </tr>\n",
       "  </tbody>\n",
       "</table>\n",
       "</div>"
      ],
      "text/plain": [
       "        refseq                  gene  symb  locus_id   chr  strand      start  \\\n",
       "612  NM_000655  L-selectin precursor  SELL      6402  chr1       0  169659805   \n",
       "\n",
       "            nd  cds_start    cds_end    status  chrn  \n",
       "612  169680843  169660924  169680678  Reviewed     1  "
      ]
     },
     "execution_count": 67,
     "metadata": {},
     "output_type": "execute_result"
    }
   ],
   "source": [
    "df1.iloc[607:615]\n",
    "df1[df1.nd == 169680843]"
   ]
  },
  {
   "cell_type": "code",
   "execution_count": 41,
   "metadata": {},
   "outputs": [
    {
     "data": {
      "text/html": [
       "<div>\n",
       "<style scoped>\n",
       "    .dataframe tbody tr th:only-of-type {\n",
       "        vertical-align: middle;\n",
       "    }\n",
       "\n",
       "    .dataframe tbody tr th {\n",
       "        vertical-align: top;\n",
       "    }\n",
       "\n",
       "    .dataframe thead th {\n",
       "        text-align: right;\n",
       "    }\n",
       "</style>\n",
       "<table border=\"1\" class=\"dataframe\">\n",
       "  <thead>\n",
       "    <tr style=\"text-align: right;\">\n",
       "      <th></th>\n",
       "      <th>refseq</th>\n",
       "      <th>gene</th>\n",
       "      <th>symb</th>\n",
       "      <th>locus_id</th>\n",
       "      <th>chr</th>\n",
       "      <th>strand</th>\n",
       "      <th>start</th>\n",
       "      <th>nd</th>\n",
       "      <th>cds_start</th>\n",
       "      <th>cds_end</th>\n",
       "      <th>status</th>\n",
       "      <th>chrn</th>\n",
       "    </tr>\n",
       "  </thead>\n",
       "  <tbody>\n",
       "    <tr>\n",
       "      <th>0</th>\n",
       "      <td>NM_000014</td>\n",
       "      <td>alpha-2-macroglobulin precursor</td>\n",
       "      <td>A2M</td>\n",
       "      <td>2</td>\n",
       "      <td>chr12</td>\n",
       "      <td>0</td>\n",
       "      <td>9220303</td>\n",
       "      <td>9268558</td>\n",
       "      <td>9220418</td>\n",
       "      <td>9268445</td>\n",
       "      <td>Reviewed</td>\n",
       "      <td>12</td>\n",
       "    </tr>\n",
       "    <tr>\n",
       "      <th>1</th>\n",
       "      <td>NM_000015</td>\n",
       "      <td>arylamine N-acetyltransferase 2</td>\n",
       "      <td>NAT2</td>\n",
       "      <td>10</td>\n",
       "      <td>chr8</td>\n",
       "      <td>1</td>\n",
       "      <td>18248754</td>\n",
       "      <td>18258723</td>\n",
       "      <td>18257513</td>\n",
       "      <td>18258386</td>\n",
       "      <td>Reviewed</td>\n",
       "      <td>8</td>\n",
       "    </tr>\n",
       "  </tbody>\n",
       "</table>\n",
       "</div>"
      ],
      "text/plain": [
       "      refseq                             gene  symb  locus_id    chr  strand  \\\n",
       "0  NM_000014  alpha-2-macroglobulin precursor   A2M         2  chr12       0   \n",
       "1  NM_000015  arylamine N-acetyltransferase 2  NAT2        10   chr8       1   \n",
       "\n",
       "      start        nd  cds_start   cds_end    status  chrn  \n",
       "0   9220303   9268558    9220418   9268445  Reviewed    12  \n",
       "1  18248754  18258723   18257513  18258386  Reviewed     8  "
      ]
     },
     "execution_count": 41,
     "metadata": {},
     "output_type": "execute_result"
    },
    {
     "data": {
      "text/plain": [
       "(40430, 9)"
      ]
     },
     "execution_count": 41,
     "metadata": {},
     "output_type": "execute_result"
    },
    {
     "data": {
      "text/plain": [
       "(29556, 9)"
      ]
     },
     "execution_count": 41,
     "metadata": {},
     "output_type": "execute_result"
    }
   ],
   "source": [
    "df1.loc[~df1.index.duplicated(keep='first')].shape"
   ]
  },
  {
   "cell_type": "markdown",
   "metadata": {},
   "source": [
    "### use pd.cut to bin continuous values"
   ]
  },
  {
   "cell_type": "code",
   "execution_count": 40,
   "metadata": {},
   "outputs": [
    {
     "data": {
      "text/plain": [
       "0    1\n",
       "1    1\n",
       "2    1\n",
       "Name: petal_length, dtype: int64"
      ]
     },
     "execution_count": 40,
     "metadata": {},
     "output_type": "execute_result"
    }
   ],
   "source": [
    "# binning a column with continuous values into a categorical value\n",
    "import seaborn as sns\n",
    "import time\n",
    "import pandas as pd\n",
    "\n",
    "data = sns.load_dataset('iris')\n",
    "\n",
    "class_list = pd.cut(x=data.petal_length,\n",
    "                   bins=[0, 2, 5, 100],\n",
    "                   include_lowest=True,\n",
    "                   labels=[1, 2, 3]).astype(int)\n",
    "class_list[:3]"
   ]
  },
  {
   "cell_type": "markdown",
   "metadata": {},
   "source": [
    "#### seaborn cmap"
   ]
  },
  {
   "cell_type": "code",
   "execution_count": 25,
   "metadata": {},
   "outputs": [
    {
     "data": {
      "image/png": "[encoded data removed]",
      "text/plain": [
       "<Figure size 360x72 with 1 Axes>"
      ]
     },
     "metadata": {},
     "output_type": "display_data"
    }
   ],
   "source": [
    "# you can just give a list of colors\n",
    "cmap = ['#0571b0', '#92c5de','#e0e0e0', '#f4a582', '#ca0020']\n",
    "sns.palplot(cmap)"
   ]
  },
  {
   "cell_type": "code",
   "execution_count": 36,
   "metadata": {},
   "outputs": [
    {
     "data": {
      "text/html": [
       "<div>\n",
       "<style scoped>\n",
       "    .dataframe tbody tr th:only-of-type {\n",
       "        vertical-align: middle;\n",
       "    }\n",
       "\n",
       "    .dataframe tbody tr th {\n",
       "        vertical-align: top;\n",
       "    }\n",
       "\n",
       "    .dataframe thead th {\n",
       "        text-align: right;\n",
       "    }\n",
       "</style>\n",
       "<table border=\"1\" class=\"dataframe\">\n",
       "  <thead>\n",
       "    <tr style=\"text-align: right;\">\n",
       "      <th></th>\n",
       "      <th>hiv_pos_mfreq</th>\n",
       "      <th>hiv_neg_mfreq</th>\n",
       "      <th>mfreq</th>\n",
       "      <th>HTMCP-03-06-02260</th>\n",
       "      <th>HTMCP-03-06-02428</th>\n",
       "      <th>HTMCP-03-06-02139</th>\n",
       "      <th>HTMCP-03-06-02240</th>\n",
       "      <th>HTMCP-03-06-02262</th>\n",
       "      <th>HTMCP-03-06-02001</th>\n",
       "      <th>HTMCP-03-06-02411</th>\n",
       "      <th>...</th>\n",
       "      <th>HTMCP-03-06-02326</th>\n",
       "      <th>HTMCP-03-06-02185</th>\n",
       "      <th>HTMCP-03-06-02222</th>\n",
       "      <th>HTMCP-03-06-02197</th>\n",
       "      <th>HTMCP-03-06-02194</th>\n",
       "      <th>HTMCP-03-06-02332</th>\n",
       "      <th>HTMCP-03-06-02156</th>\n",
       "      <th>HTMCP-03-06-02046</th>\n",
       "      <th>HTMCP-03-06-02008</th>\n",
       "      <th>HTMCP-03-06-02037</th>\n",
       "    </tr>\n",
       "    <tr>\n",
       "      <th>gene</th>\n",
       "      <th></th>\n",
       "      <th></th>\n",
       "      <th></th>\n",
       "      <th></th>\n",
       "      <th></th>\n",
       "      <th></th>\n",
       "      <th></th>\n",
       "      <th></th>\n",
       "      <th></th>\n",
       "      <th></th>\n",
       "      <th></th>\n",
       "      <th></th>\n",
       "      <th></th>\n",
       "      <th></th>\n",
       "      <th></th>\n",
       "      <th></th>\n",
       "      <th></th>\n",
       "      <th></th>\n",
       "      <th></th>\n",
       "      <th></th>\n",
       "      <th></th>\n",
       "    </tr>\n",
       "  </thead>\n",
       "  <tbody>\n",
       "    <tr>\n",
       "      <th>HIV_status</th>\n",
       "      <td>100</td>\n",
       "      <td>100</td>\n",
       "      <td>102</td>\n",
       "      <td>Positive</td>\n",
       "      <td>Positive</td>\n",
       "      <td>Positive</td>\n",
       "      <td>Positive</td>\n",
       "      <td>Positive</td>\n",
       "      <td>Positive</td>\n",
       "      <td>Positive</td>\n",
       "      <td>...</td>\n",
       "      <td>Negative</td>\n",
       "      <td>Negative</td>\n",
       "      <td>Negative</td>\n",
       "      <td>Negative</td>\n",
       "      <td>Negative</td>\n",
       "      <td>Negative</td>\n",
       "      <td>Negative</td>\n",
       "      <td>Negative</td>\n",
       "      <td>Negative</td>\n",
       "      <td>Negative</td>\n",
       "    </tr>\n",
       "    <tr>\n",
       "      <th>Putative_histology</th>\n",
       "      <td>100</td>\n",
       "      <td>100</td>\n",
       "      <td>102</td>\n",
       "      <td>Squamous</td>\n",
       "      <td>Squamous</td>\n",
       "      <td>Adeno</td>\n",
       "      <td>Squamous</td>\n",
       "      <td>Squamous</td>\n",
       "      <td>Squamous</td>\n",
       "      <td>Squamous</td>\n",
       "      <td>...</td>\n",
       "      <td>Adeno</td>\n",
       "      <td>Squamous</td>\n",
       "      <td>Squamous</td>\n",
       "      <td>Squamous</td>\n",
       "      <td>Squamous</td>\n",
       "      <td>Squamous</td>\n",
       "      <td>Squamous</td>\n",
       "      <td>Squamous</td>\n",
       "      <td>Squamous</td>\n",
       "      <td>Squamous</td>\n",
       "    </tr>\n",
       "  </tbody>\n",
       "</table>\n",
       "<p>2 rows × 121 columns</p>\n",
       "</div>"
      ],
      "text/plain": [
       "                    hiv_pos_mfreq  hiv_neg_mfreq  mfreq HTMCP-03-06-02260  \\\n",
       "gene                                                                        \n",
       "HIV_status                    100            100    102          Positive   \n",
       "Putative_histology            100            100    102          Squamous   \n",
       "\n",
       "                   HTMCP-03-06-02428 HTMCP-03-06-02139 HTMCP-03-06-02240  \\\n",
       "gene                                                                       \n",
       "HIV_status                  Positive          Positive          Positive   \n",
       "Putative_histology          Squamous             Adeno          Squamous   \n",
       "\n",
       "                   HTMCP-03-06-02262 HTMCP-03-06-02001 HTMCP-03-06-02411  ...  \\\n",
       "gene                                                                      ...   \n",
       "HIV_status                  Positive          Positive          Positive  ...   \n",
       "Putative_histology          Squamous          Squamous          Squamous  ...   \n",
       "\n",
       "                   HTMCP-03-06-02326 HTMCP-03-06-02185 HTMCP-03-06-02222  \\\n",
       "gene                                                                       \n",
       "HIV_status                  Negative          Negative          Negative   \n",
       "Putative_histology             Adeno          Squamous          Squamous   \n",
       "\n",
       "                   HTMCP-03-06-02197 HTMCP-03-06-02194 HTMCP-03-06-02332  \\\n",
       "gene                                                                       \n",
       "HIV_status                  Negative          Negative          Negative   \n",
       "Putative_histology          Squamous          Squamous          Squamous   \n",
       "\n",
       "                   HTMCP-03-06-02156 HTMCP-03-06-02046 HTMCP-03-06-02008  \\\n",
       "gene                                                                       \n",
       "HIV_status                  Negative          Negative          Negative   \n",
       "Putative_histology          Squamous          Squamous          Squamous   \n",
       "\n",
       "                   HTMCP-03-06-02037  \n",
       "gene                                  \n",
       "HIV_status                  Negative  \n",
       "Putative_histology          Squamous  \n",
       "\n",
       "[2 rows x 121 columns]"
      ]
     },
     "execution_count": 36,
     "metadata": {},
     "output_type": "execute_result"
    },
    {
     "data": {
      "text/plain": [
       "hiv_pos_mfreq    False\n",
       "hiv_neg_mfreq    False\n",
       "mfreq            False\n",
       "Name: Putative_histology, dtype: bool"
      ]
     },
     "execution_count": 36,
     "metadata": {},
     "output_type": "execute_result"
    },
    {
     "data": {
      "text/plain": [
       "Index(['HTMCP-03-06-02110', 'HTMCP-03-06-02216', 'HTMCP-03-06-02203',\n",
       "       'HTMCP-03-06-02176'],\n",
       "      dtype='object')"
      ]
     },
     "execution_count": 36,
     "metadata": {},
     "output_type": "execute_result"
    },
    {
     "data": {
      "text/html": [
       "<div>\n",
       "<style scoped>\n",
       "    .dataframe tbody tr th:only-of-type {\n",
       "        vertical-align: middle;\n",
       "    }\n",
       "\n",
       "    .dataframe tbody tr th {\n",
       "        vertical-align: top;\n",
       "    }\n",
       "\n",
       "    .dataframe thead th {\n",
       "        text-align: right;\n",
       "    }\n",
       "</style>\n",
       "<table border=\"1\" class=\"dataframe\">\n",
       "  <thead>\n",
       "    <tr style=\"text-align: right;\">\n",
       "      <th></th>\n",
       "      <th>HTMCP-03-06-02110</th>\n",
       "      <th>HTMCP-03-06-02216</th>\n",
       "      <th>HTMCP-03-06-02203</th>\n",
       "      <th>HTMCP-03-06-02176</th>\n",
       "    </tr>\n",
       "    <tr>\n",
       "      <th>gene</th>\n",
       "      <th></th>\n",
       "      <th></th>\n",
       "      <th></th>\n",
       "      <th></th>\n",
       "    </tr>\n",
       "  </thead>\n",
       "  <tbody>\n",
       "    <tr>\n",
       "      <th>HIV_status</th>\n",
       "      <td>Positive</td>\n",
       "      <td>Positive</td>\n",
       "      <td>Negative</td>\n",
       "      <td>Negative</td>\n",
       "    </tr>\n",
       "    <tr>\n",
       "      <th>Putative_histology</th>\n",
       "      <td>Adenosquamous</td>\n",
       "      <td>Adenosquamous</td>\n",
       "      <td>Adenosquamous</td>\n",
       "      <td>Adenosquamous</td>\n",
       "    </tr>\n",
       "    <tr>\n",
       "      <th>PIK3CA(35%)</th>\n",
       "      <td>NaN</td>\n",
       "      <td>NaN</td>\n",
       "      <td>Non-synonymous</td>\n",
       "      <td>NaN</td>\n",
       "    </tr>\n",
       "    <tr>\n",
       "      <th>FAT1(19%)</th>\n",
       "      <td>NaN</td>\n",
       "      <td>NaN</td>\n",
       "      <td>NaN</td>\n",
       "      <td>NaN</td>\n",
       "    </tr>\n",
       "    <tr>\n",
       "      <th>MLL2(15%)</th>\n",
       "      <td>NaN</td>\n",
       "      <td>NaN</td>\n",
       "      <td>NaN</td>\n",
       "      <td>NaN</td>\n",
       "    </tr>\n",
       "  </tbody>\n",
       "</table>\n",
       "</div>"
      ],
      "text/plain": [
       "                   HTMCP-03-06-02110 HTMCP-03-06-02216 HTMCP-03-06-02203  \\\n",
       "gene                                                                       \n",
       "HIV_status                  Positive          Positive          Negative   \n",
       "Putative_histology     Adenosquamous     Adenosquamous     Adenosquamous   \n",
       "PIK3CA(35%)                      NaN               NaN    Non-synonymous   \n",
       "FAT1(19%)                        NaN               NaN               NaN   \n",
       "MLL2(15%)                        NaN               NaN               NaN   \n",
       "\n",
       "                   HTMCP-03-06-02176  \n",
       "gene                                  \n",
       "HIV_status                  Negative  \n",
       "Putative_histology     Adenosquamous  \n",
       "PIK3CA(35%)                      NaN  \n",
       "FAT1(19%)                        NaN  \n",
       "MLL2(15%)                        NaN  "
      ]
     },
     "execution_count": 36,
     "metadata": {},
     "output_type": "execute_result"
    }
   ],
   "source": [
    "# select columns based on values in a row, use series selection or transpose the df first\n",
    "mutation_f = '/projects/trans_scratch/validations/workspace/szong/Cervical/mutsig2cv/118_patients_old_vcfs/smgs_reviewed_details_with_frequency.txt.20190104'\n",
    "df = pd.read_csv(mutation_f, index_col='gene')\n",
    "df.head(2)\n",
    "s = df.loc['Putative_histology',:] == 'Adenosquamous'\n",
    "s[:3]\n",
    "s[s].index\n",
    "df[s[s].index].head()"
   ]
  },
  {
   "cell_type": "markdown",
   "metadata": {},
   "source": [
    "#### re.search?"
   ]
  },
  {
   "cell_type": "code",
   "execution_count": 54,
   "metadata": {},
   "outputs": [],
   "source": []
  },
  {
   "cell_type": "markdown",
   "metadata": {},
   "source": [
    "### understand class self"
   ]
  },
  {
   "cell_type": "code",
   "execution_count": 10,
   "metadata": {},
   "outputs": [
    {
     "name": "stdout",
     "output_type": "stream",
     "text": [
      "Area of Rectangle: 19200 cm^2\n",
      "Cost of rectangular field: Rs. 38400000 \n"
     ]
    }
   ],
   "source": [
    "class Rectangle:\n",
    "   def __init__(self, length, breadth, unit_cost=0):\n",
    "       self.length = length\n",
    "       self.breadth = breadth\n",
    "       self.unit_cost = unit_cost\n",
    "   \n",
    "   def get_perimeter(self):\n",
    "       return 2 * (self.length + self.breadth)\n",
    "   \n",
    "   def get_area(self):\n",
    "       return self.length * self.breadth\n",
    "   \n",
    "   def calculate_cost(self):\n",
    "       area = self.get_area()\n",
    "       return area * self.unit_cost\n",
    "# breadth = 120 cm, length = 160 cm, 1 cm^2 = Rs 2000\n",
    "r = Rectangle(160, 120, 2000)\n",
    "print(\"Area of Rectangle: %s cm^2\" % (r.get_area()))\n",
    "print(\"Cost of rectangular field: Rs. %s \" %(r.calculate_cost()))"
   ]
  },
  {
   "cell_type": "markdown",
   "metadata": {},
   "source": [
    "to understand python object and self\n",
    "https://micropyramid.com/blog/understand-self-and-__init__-method-in-python-class/\n",
    "\n",
    "* class: a set of things (objects) having some properties in common and are different from others by type, kind, qulity etc. class is the blueprint for individual object with exactly the same behaviours.\n",
    "* object: one of the instances (examples) of the class, which can perform the functionalities defined in the class.\n",
    "* self: represent the instance of the class. by using self, we can access the attributes and methods of the class. \n",
    "* __init__: is the contructor, we call this reserved method to create an object from a class. It allows the class to initialize the attributes of a class."
   ]
  },
  {
   "cell_type": "code",
   "execution_count": 24,
   "metadata": {},
   "outputs": [
    {
     "data": {
      "text/plain": [
       "2"
      ]
     },
     "execution_count": 24,
     "metadata": {},
     "output_type": "execute_result"
    }
   ],
   "source": [
    "string = 'ABCDCEDCXBGECDCCDXA'\n",
    "sub_string = 'CDC'\n",
    "def count_substring(string, sub_string):\n",
    "   counts = 0\n",
    "   for idx in range(len(string)-2):\n",
    "        part = string[idx:idx+3]\n",
    "        if part == sub_string:\n",
    "            counts += 1\n",
    "   return counts\n",
    "count_substring(string, sub_string)"
   ]
  },
  {
   "cell_type": "code",
   "execution_count": 19,
   "metadata": {},
   "outputs": [
    {
     "data": {
      "text/plain": [
       "'ABCD'"
      ]
     },
     "execution_count": 19,
     "metadata": {},
     "output_type": "execute_result"
    }
   ],
   "source": [
    "string[0:4]"
   ]
  },
  {
   "cell_type": "code",
   "execution_count": 35,
   "metadata": {},
   "outputs": [
    {
     "name": "stdout",
     "output_type": "stream",
     "text": [
      "b\n"
     ]
    },
    {
     "ename": "ValueError",
     "evalue": "invalid literal for int() with base 10: 'b'",
     "output_type": "error",
     "traceback": [
      "\u001b[0;31m---------------------------------------------------------------------------\u001b[0m",
      "\u001b[0;31mValueError\u001b[0m                                Traceback (most recent call last)",
      "\u001b[0;32m<ipython-input-35-8a635b9ba9ae>\u001b[0m in \u001b[0;36m<module>\u001b[0;34m\u001b[0m\n\u001b[1;32m      1\u001b[0m \u001b[0;32mif\u001b[0m \u001b[0m__name__\u001b[0m \u001b[0;34m==\u001b[0m \u001b[0;34m'__main__'\u001b[0m\u001b[0;34m:\u001b[0m\u001b[0;34m\u001b[0m\u001b[0;34m\u001b[0m\u001b[0m\n\u001b[0;32m----> 2\u001b[0;31m     \u001b[0mn\u001b[0m \u001b[0;34m=\u001b[0m \u001b[0mint\u001b[0m\u001b[0;34m(\u001b[0m\u001b[0minput\u001b[0m\u001b[0;34m(\u001b[0m\u001b[0;34m)\u001b[0m\u001b[0;34m)\u001b[0m\u001b[0;34m\u001b[0m\u001b[0;34m\u001b[0m\u001b[0m\n\u001b[0m\u001b[1;32m      3\u001b[0m     \u001b[0;31m# so student_marks is a dictionary, key is the student name, values is a list of three marks\u001b[0m\u001b[0;34m\u001b[0m\u001b[0;34m\u001b[0m\u001b[0;34m\u001b[0m\u001b[0m\n\u001b[1;32m      4\u001b[0m     \u001b[0mstudent_marks\u001b[0m \u001b[0;34m=\u001b[0m \u001b[0;34m{\u001b[0m\u001b[0;34m}\u001b[0m\u001b[0;34m\u001b[0m\u001b[0;34m\u001b[0m\u001b[0m\n\u001b[1;32m      5\u001b[0m     \u001b[0;32mfor\u001b[0m \u001b[0m_\u001b[0m \u001b[0;32min\u001b[0m \u001b[0mrange\u001b[0m\u001b[0;34m(\u001b[0m\u001b[0mn\u001b[0m\u001b[0;34m)\u001b[0m\u001b[0;34m:\u001b[0m\u001b[0;34m\u001b[0m\u001b[0;34m\u001b[0m\u001b[0m\n",
      "\u001b[0;31mValueError\u001b[0m: invalid literal for int() with base 10: 'b'"
     ]
    }
   ],
   "source": [
    "if __name__ == '__main__':\n",
    "    n = int(input())\n",
    "    # so student_marks is a dictionary, key is the student name, values is a list of three marks\n",
    "    student_marks = {}\n",
    "    for _ in range(n):\n",
    "        name, *line = input().split()\n",
    "        scores = list(map(float, line))\n",
    "        student_marks[name] = scores\n",
    "    query_name = input()\n",
    "    marks = student_marks[query_name]\n",
    "    average_mark = sum(marks)/len(marks)\n",
    "    print(\"{0:.2f}\".format(average_mark))\n",
    "# main()"
   ]
  },
  {
   "cell_type": "code",
   "execution_count": 43,
   "metadata": {},
   "outputs": [
    {
     "name": "stdout",
     "output_type": "stream",
     "text": [
      "5.00\n"
     ]
    }
   ],
   "source": [
    "print(\"{0:.2f}\".format(5.0))"
   ]
  },
  {
   "cell_type": "code",
   "execution_count": 41,
   "metadata": {},
   "outputs": [
    {
     "name": "stdout",
     "output_type": "stream",
     "text": [
      "0:.2f\n"
     ]
    }
   ],
   "source": [
    "print(\":.2f\".ormat(5.0))"
   ]
  },
  {
   "cell_type": "code",
   "execution_count": 46,
   "metadata": {},
   "outputs": [
    {
     "data": {
      "text/plain": [
       "'iamKKKKKmartateverything'"
      ]
     },
     "execution_count": 46,
     "metadata": {},
     "output_type": "execute_result"
    }
   ],
   "source": [
    "string = 'iamsmartateverything'\n",
    "position = 3\n",
    "character = 'KKKKK'\n",
    "def mutate_string(string, position, character):\n",
    "    l = list(string)\n",
    "    l[position] = character \n",
    "    s = ''.join(l) \n",
    "    return s\n",
    "mutate_string(string, position, character)"
   ]
  },
  {
   "cell_type": "code",
   "execution_count": null,
   "metadata": {},
   "outputs": [],
   "source": [
    "def show_this(astring):\n",
    "    print(s) # this is wrong because s comes from nowhere\n",
    "    print(astring) # this is correct because when you call function show_this you have to specify what astring is\n",
    "show_this('iamsmart')"
   ]
  },
  {
   "cell_type": "code",
   "execution_count": 47,
   "metadata": {},
   "outputs": [
    {
     "data": {
      "text/plain": [
       "2.23606797749979"
      ]
     },
     "execution_count": 47,
     "metadata": {},
     "output_type": "execute_result"
    }
   ],
   "source": [
    "math.sqrt(5)"
   ]
  },
  {
   "cell_type": "code",
   "execution_count": 50,
   "metadata": {},
   "outputs": [],
   "source": [
    "a = ['a', 'b', 'c']\n",
    "b, *c = a\n"
   ]
  },
  {
   "cell_type": "code",
   "execution_count": 52,
   "metadata": {},
   "outputs": [
    {
     "data": {
      "text/plain": [
       "'a'"
      ]
     },
     "execution_count": 52,
     "metadata": {},
     "output_type": "execute_result"
    },
    {
     "data": {
      "text/plain": [
       "['b', 'c']"
      ]
     },
     "execution_count": 52,
     "metadata": {},
     "output_type": "execute_result"
    }
   ],
   "source": [
    "b\n",
    "c"
   ]
  },
  {
   "cell_type": "markdown",
   "metadata": {},
   "source": [
    "### ok this is the formatting you can do in notebook."
   ]
  },
  {
   "cell_type": "markdown",
   "metadata": {},
   "source": [
    "this is a **test** cell. you can add a [link](https://docs.python.org/3/tutorial/classes.html#a-first-look-at-classes) there. sometimes, you would like to use a *italics* format. i am not sure what `inline really` means.\n",
    ">Also, you can blockquote somethiend.ffffffffffffffffffff aaaaaaaaaaaaaaaa aaaaaaaaaaaaaaaaaaaaaaaaaaaaaaaaaaaaaaaaaaa dkdfjdfjd"
   ]
  },
  {
   "cell_type": "code",
   "execution_count": 41,
   "metadata": {},
   "outputs": [
    {
     "name": "stdout",
     "output_type": "stream",
     "text": [
      "50005 -100000000\n",
      "50005 33\n",
      "50005 33\n",
      "50005 33\n",
      "50005 33\n",
      "50005 50000\n",
      "50005 50000\n",
      "50005 50000\n",
      "55555 50005\n",
      "55555 50005\n",
      "55555 50005\n",
      "55555 50005\n"
     ]
    },
    {
     "data": {
      "text/plain": [
       "50005"
      ]
     },
     "execution_count": 41,
     "metadata": {},
     "output_type": "execute_result"
    }
   ],
   "source": [
    "arr = [50005, 33, -551,2,3,50000, 50000, 4,55555, 55555, 5, 5]\n",
    "\n",
    "def second(arr):\n",
    "    largest = -100000000\n",
    "    second = -10000000\n",
    "    for idx in range(len(arr)):\n",
    "        num = arr[idx]\n",
    "        if num > largest:\n",
    "            second = largest\n",
    "            largest = num\n",
    "        elif num == largest:\n",
    "            pass # means do nothing\n",
    "        elif num > second:\n",
    "            second = num\n",
    "        print(largest, second)\n",
    "    return second\n",
    "second(arr)"
   ]
  },
  {
   "cell_type": "code",
   "execution_count": 49,
   "metadata": {},
   "outputs": [
    {
     "data": {
      "text/plain": [
       "[5, 4, 3, 2, 1]"
      ]
     },
     "execution_count": 49,
     "metadata": {},
     "output_type": "execute_result"
    }
   ],
   "source": [
    "sorted(np.unique(n), reverse=True)"
   ]
  },
  {
   "cell_type": "code",
   "execution_count": 45,
   "metadata": {},
   "outputs": [
    {
     "data": {
      "text/plain": [
       "4"
      ]
     },
     "execution_count": 45,
     "metadata": {},
     "output_type": "execute_result"
    }
   ],
   "source": [
    "n = [1,2,3,4,5, 5, 5]\n",
    "a = sorted(list(set(n)), reverse=True)\n",
    "a[1]\n"
   ]
  }
 ],
 "metadata": {
  "kernelspec": {
   "display_name": "Python 3",
   "language": "python",
   "name": "python3"
  },
  "language_info": {
   "codemirror_mode": {
    "name": "ipython",
    "version": 3
   },
   "file_extension": ".py",
   "mimetype": "text/x-python",
   "name": "python",
   "nbconvert_exporter": "python",
   "pygments_lexer": "ipython3",
   "version": "3.7.3"
  }
 },
 "nbformat": 4,
 "nbformat_minor": 2
}
